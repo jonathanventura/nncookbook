{
 "cells": [
  {
   "cell_type": "markdown",
   "metadata": {},
   "source": [
    "### Classification with MNIST Dataset and LeNet-5 network\n",
    "This script sets up a LeNet-style network to classify digits from the MNIST dataset."
   ]
  },
  {
   "cell_type": "code",
   "execution_count": 1,
   "metadata": {},
   "outputs": [
    {
     "name": "stderr",
     "output_type": "stream",
     "text": [
      "Using TensorFlow backend.\n"
     ]
    }
   ],
   "source": [
    "import keras\n",
    "from keras.datasets import mnist\n",
    "from keras.models import Sequential\n",
    "from keras.layers import Input, Conv2D, Dense, Flatten, MaxPooling2D\n",
    "from keras.optimizers import SGD\n",
    "from matplotlib import pyplot as plt\n",
    "import numpy as np"
   ]
  },
  {
   "cell_type": "markdown",
   "metadata": {},
   "source": [
    "Use a Keras utility function to load the MNIST dataset.  We select only zeros and ones to do binary classification."
   ]
  },
  {
   "cell_type": "code",
   "execution_count": 2,
   "metadata": {},
   "outputs": [],
   "source": [
    "(x_train, y_train), (x_test, y_test) = mnist.load_data()\n",
    "y_train = keras.utils.to_categorical(y_train,10)\n",
    "y_test = keras.utils.to_categorical(y_test,10)"
   ]
  },
  {
   "cell_type": "markdown",
   "metadata": {},
   "source": [
    "Resize the images to vectors and convert their datatype and range."
   ]
  },
  {
   "cell_type": "code",
   "execution_count": 3,
   "metadata": {},
   "outputs": [],
   "source": [
    "x_train = np.expand_dims(x_train,axis=-1)\n",
    "x_test = np.expand_dims(x_test,axis=-1)\n",
    "x_train = x_train.astype('float32')\n",
    "x_test = x_test.astype('float32')\n",
    "x_train /= 255\n",
    "x_test /= 255\n",
    "x_train = x_train*2.-1.\n",
    "x_test = x_test*2.-1."
   ]
  },
  {
   "cell_type": "markdown",
   "metadata": {
    "collapsed": true
   },
   "source": [
    "Build a binary linear classifier model."
   ]
  },
  {
   "cell_type": "code",
   "execution_count": 4,
   "metadata": {},
   "outputs": [
    {
     "name": "stdout",
     "output_type": "stream",
     "text": [
      "_________________________________________________________________\n",
      "Layer (type)                 Output Shape              Param #   \n",
      "=================================================================\n",
      "conv2d_1 (Conv2D)            (None, 24, 24, 50)        1300      \n",
      "_________________________________________________________________\n",
      "max_pooling2d_1 (MaxPooling2 (None, 12, 12, 50)        0         \n",
      "_________________________________________________________________\n",
      "conv2d_2 (Conv2D)            (None, 8, 8, 20)          25020     \n",
      "_________________________________________________________________\n",
      "max_pooling2d_2 (MaxPooling2 (None, 4, 4, 20)          0         \n",
      "_________________________________________________________________\n",
      "flatten_1 (Flatten)          (None, 320)               0         \n",
      "_________________________________________________________________\n",
      "dense_1 (Dense)              (None, 200)               64200     \n",
      "_________________________________________________________________\n",
      "dense_2 (Dense)              (None, 10)                2010      \n",
      "=================================================================\n",
      "Total params: 92,530\n",
      "Trainable params: 92,530\n",
      "Non-trainable params: 0\n",
      "_________________________________________________________________\n"
     ]
    }
   ],
   "source": [
    "model = Sequential()\n",
    "model.add(Conv2D(50,5,padding='valid',activation='relu',input_shape=(28,28,1)))\n",
    "model.add(MaxPooling2D(2,2))\n",
    "model.add(Conv2D(20,5,padding='valid',activation='relu'))\n",
    "model.add(MaxPooling2D(2,2))\n",
    "model.add(Flatten())\n",
    "model.add(Dense(200,activation='relu'))\n",
    "model.add(Dense(10,activation='softmax'))\n",
    "model.summary()"
   ]
  },
  {
   "cell_type": "markdown",
   "metadata": {},
   "source": [
    "Set up the model to optimize the binary crossentropy loss using stochastic gradient descent."
   ]
  },
  {
   "cell_type": "code",
   "execution_count": 5,
   "metadata": {},
   "outputs": [],
   "source": [
    "model.compile(loss='categorical_crossentropy',\n",
    "              optimizer='sgd',\n",
    "              metrics=['accuracy'])"
   ]
  },
  {
   "cell_type": "markdown",
   "metadata": {},
   "source": [
    "Optimize the model over the training data."
   ]
  },
  {
   "cell_type": "code",
   "execution_count": 6,
   "metadata": {},
   "outputs": [
    {
     "name": "stdout",
     "output_type": "stream",
     "text": [
      "Train on 60000 samples, validate on 10000 samples\n",
      "Epoch 1/20\n",
      "60000/60000 [==============================] - 9s - loss: 0.7813 - acc: 0.7748 - val_loss: 0.2067 - val_acc: 0.9386\n",
      "Epoch 2/20\n",
      "60000/60000 [==============================] - 7s - loss: 0.1789 - acc: 0.9473 - val_loss: 0.1250 - val_acc: 0.9640\n",
      "Epoch 3/20\n",
      "60000/60000 [==============================] - 7s - loss: 0.1254 - acc: 0.9630 - val_loss: 0.0946 - val_acc: 0.9721\n",
      "Epoch 4/20\n",
      "60000/60000 [==============================] - 7s - loss: 0.1001 - acc: 0.9702 - val_loss: 0.0805 - val_acc: 0.9755\n",
      "Epoch 5/20\n",
      "60000/60000 [==============================] - 7s - loss: 0.0855 - acc: 0.9741 - val_loss: 0.0667 - val_acc: 0.9797\n",
      "Epoch 6/20\n",
      "60000/60000 [==============================] - 7s - loss: 0.0745 - acc: 0.9776 - val_loss: 0.0615 - val_acc: 0.9815\n",
      "Epoch 7/20\n",
      "60000/60000 [==============================] - 7s - loss: 0.0670 - acc: 0.9797 - val_loss: 0.0638 - val_acc: 0.9797\n",
      "Epoch 8/20\n",
      "60000/60000 [==============================] - 7s - loss: 0.0610 - acc: 0.9816 - val_loss: 0.0542 - val_acc: 0.9828\n",
      "Epoch 9/20\n",
      "60000/60000 [==============================] - 7s - loss: 0.0562 - acc: 0.9832 - val_loss: 0.0494 - val_acc: 0.9844\n",
      "Epoch 10/20\n",
      "60000/60000 [==============================] - 7s - loss: 0.0526 - acc: 0.9840 - val_loss: 0.0528 - val_acc: 0.9828\n",
      "Epoch 11/20\n",
      "60000/60000 [==============================] - 7s - loss: 0.0488 - acc: 0.9854 - val_loss: 0.0450 - val_acc: 0.9855\n",
      "Epoch 12/20\n",
      "60000/60000 [==============================] - 7s - loss: 0.0463 - acc: 0.9862 - val_loss: 0.0462 - val_acc: 0.9848\n",
      "Epoch 13/20\n",
      "60000/60000 [==============================] - 7s - loss: 0.0435 - acc: 0.9868 - val_loss: 0.0399 - val_acc: 0.9876\n",
      "Epoch 14/20\n",
      "60000/60000 [==============================] - 7s - loss: 0.0414 - acc: 0.9874 - val_loss: 0.0386 - val_acc: 0.9880\n",
      "Epoch 15/20\n",
      "60000/60000 [==============================] - 7s - loss: 0.0393 - acc: 0.9880 - val_loss: 0.0429 - val_acc: 0.9860\n",
      "Epoch 16/20\n",
      "60000/60000 [==============================] - 7s - loss: 0.0375 - acc: 0.9884 - val_loss: 0.0385 - val_acc: 0.9863\n",
      "Epoch 17/20\n",
      "60000/60000 [==============================] - 7s - loss: 0.0358 - acc: 0.9892 - val_loss: 0.0365 - val_acc: 0.9883\n",
      "Epoch 18/20\n",
      "60000/60000 [==============================] - 7s - loss: 0.0342 - acc: 0.9897 - val_loss: 0.0345 - val_acc: 0.9886\n",
      "Epoch 19/20\n",
      "60000/60000 [==============================] - 7s - loss: 0.0332 - acc: 0.9900 - val_loss: 0.0361 - val_acc: 0.9885\n",
      "Epoch 20/20\n",
      "60000/60000 [==============================] - 7s - loss: 0.0311 - acc: 0.9909 - val_loss: 0.0368 - val_acc: 0.9877\n"
     ]
    }
   ],
   "source": [
    "history = model.fit(x_train, y_train,\n",
    "                    batch_size=100,\n",
    "                    epochs=20,\n",
    "                    verbose=1,\n",
    "                    validation_data=(x_test, y_test))"
   ]
  },
  {
   "cell_type": "code",
   "execution_count": 7,
   "metadata": {},
   "outputs": [
    {
     "data": {
      "image/png": "[encoded data removed]",
      "text/plain": [
       "<matplotlib.figure.Figure at 0x7fa293cee810>"
      ]
     },
     "metadata": {},
     "output_type": "display_data"
    }
   ],
   "source": [
    "plt.plot(history.history['loss'])\n",
    "plt.plot(history.history['val_loss'])\n",
    "plt.legend(['Training Loss','Testing Loss'])\n",
    "plt.xlabel('Epoch')\n",
    "plt.ylabel('Loss')\n",
    "plt.show()"
   ]
  },
  {
   "cell_type": "code",
   "execution_count": 8,
   "metadata": {},
   "outputs": [
    {
     "data": {
      "image/png": "[encoded data removed]",
      "text/plain": [
       "<matplotlib.figure.Figure at 0x7fa290c1b890>"
      ]
     },
     "metadata": {},
     "output_type": "display_data"
    }
   ],
   "source": [
    "plt.plot(history.history['acc'])\n",
    "plt.plot(history.history['val_acc'])\n",
    "plt.legend(['Training Accuracy','Testing Accuracy'])\n",
    "plt.xlabel('Epoch')\n",
    "plt.ylabel('Accuracy')\n",
    "plt.show()"
   ]
  },
  {
   "cell_type": "code",
   "execution_count": null,
   "metadata": {},
   "outputs": [],
   "source": []
  }
 ],
 "metadata": {
  "kernelspec": {
   "display_name": "Python 2",
   "language": "python",
   "name": "python2"
  },
  "language_info": {
   "codemirror_mode": {
    "name": "ipython",
    "version": 2
   },
   "file_extension": ".py",
   "mimetype": "text/x-python",
   "name": "python",
   "nbconvert_exporter": "python",
   "pygments_lexer": "ipython2",
   "version": "2.7.12"
  }
 },
 "nbformat": 4,
 "nbformat_minor": 2
}
