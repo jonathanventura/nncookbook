{
 "cells": [
  {
   "cell_type": "markdown",
   "metadata": {},
   "source": [
    "### Classification with CIFAR-10 Dataset and LeNet-5 network\n",
    "This script sets up a LeNet-style network to classify digits from the CIFAR-10 dataset."
   ]
  },
  {
   "cell_type": "code",
   "execution_count": 1,
   "metadata": {},
   "outputs": [
    {
     "name": "stderr",
     "output_type": "stream",
     "text": [
      "/usr/local/lib/python3.5/site-packages/h5py/__init__.py:36: FutureWarning: Conversion of the second argument of issubdtype from `float` to `np.floating` is deprecated. In future, it will be treated as `np.float64 == np.dtype(float).type`.\n",
      "  from ._conv import register_converters as _register_converters\n",
      "Using TensorFlow backend.\n"
     ]
    }
   ],
   "source": [
    "import keras\n",
    "from keras.datasets import cifar10\n",
    "from keras.models import Sequential\n",
    "from keras.layers import Input, Conv2D, Dense, Flatten, MaxPooling2D\n",
    "from keras.optimizers import SGD\n",
    "from matplotlib import pyplot as plt\n",
    "import numpy as np\n",
    "from utils import *"
   ]
  },
  {
   "cell_type": "code",
   "execution_count": 2,
   "metadata": {},
   "outputs": [],
   "source": [
    "(x_train, y_train), (x_test, y_test) = get_cifar10_data(vectorize=False)"
   ]
  },
  {
   "cell_type": "markdown",
   "metadata": {
    "collapsed": true
   },
   "source": [
    "Build the model."
   ]
  },
  {
   "cell_type": "code",
   "execution_count": 3,
   "metadata": {},
   "outputs": [
    {
     "name": "stdout",
     "output_type": "stream",
     "text": [
      "_________________________________________________________________\n",
      "Layer (type)                 Output Shape              Param #   \n",
      "=================================================================\n",
      "conv2d_1 (Conv2D)            (None, 28, 28, 50)        3800      \n",
      "_________________________________________________________________\n",
      "max_pooling2d_1 (MaxPooling2 (None, 14, 14, 50)        0         \n",
      "_________________________________________________________________\n",
      "conv2d_2 (Conv2D)            (None, 10, 10, 20)        25020     \n",
      "_________________________________________________________________\n",
      "max_pooling2d_2 (MaxPooling2 (None, 5, 5, 20)          0         \n",
      "_________________________________________________________________\n",
      "flatten_1 (Flatten)          (None, 500)               0         \n",
      "_________________________________________________________________\n",
      "dense_1 (Dense)              (None, 200)               100200    \n",
      "_________________________________________________________________\n",
      "dense_2 (Dense)              (None, 1)                 201       \n",
      "=================================================================\n",
      "Total params: 129,221\n",
      "Trainable params: 129,221\n",
      "Non-trainable params: 0\n",
      "_________________________________________________________________\n"
     ]
    }
   ],
   "source": [
    "model = Sequential()\n",
    "model.add(Conv2D(50,5,padding='valid',activation='relu',input_shape=(32,32,3)))\n",
    "model.add(MaxPooling2D(2,2))\n",
    "model.add(Conv2D(20,5,padding='valid',activation='relu'))\n",
    "model.add(MaxPooling2D(2,2))\n",
    "model.add(Flatten())\n",
    "model.add(Dense(200,activation='relu'))\n",
    "model.add(Dense(1,activation='sigmoid'))\n",
    "model.summary()"
   ]
  },
  {
   "cell_type": "markdown",
   "metadata": {},
   "source": [
    "Set up the model to optimize the binary crossentropy loss using stochastic gradient descent."
   ]
  },
  {
   "cell_type": "code",
   "execution_count": 4,
   "metadata": {},
   "outputs": [],
   "source": [
    "model.compile(loss='binary_crossentropy',\n",
    "              optimizer='adam',\n",
    "              metrics=['accuracy'])"
   ]
  },
  {
   "cell_type": "markdown",
   "metadata": {},
   "source": [
    "Optimize the model over the training data."
   ]
  },
  {
   "cell_type": "code",
   "execution_count": 5,
   "metadata": {},
   "outputs": [
    {
     "name": "stdout",
     "output_type": "stream",
     "text": [
      "Train on 9000 samples, validate on 1000 samples\n",
      "Epoch 1/50\n",
      "9000/9000 [==============================] - 4s 450us/step - loss: 0.3930 - acc: 0.8161 - val_loss: 0.2815 - val_acc: 0.8890\n",
      "Epoch 2/50\n",
      "9000/9000 [==============================] - 1s 93us/step - loss: 0.2404 - acc: 0.9022 - val_loss: 0.2301 - val_acc: 0.9160\n",
      "Epoch 3/50\n",
      "9000/9000 [==============================] - 1s 91us/step - loss: 0.1867 - acc: 0.9291 - val_loss: 0.1771 - val_acc: 0.9350\n",
      "Epoch 4/50\n",
      "9000/9000 [==============================] - 1s 93us/step - loss: 0.1511 - acc: 0.9412 - val_loss: 0.1625 - val_acc: 0.9320\n",
      "Epoch 5/50\n",
      "9000/9000 [==============================] - 1s 96us/step - loss: 0.1250 - acc: 0.9522 - val_loss: 0.1605 - val_acc: 0.9370\n",
      "Epoch 6/50\n",
      "9000/9000 [==============================] - 1s 96us/step - loss: 0.1074 - acc: 0.9598 - val_loss: 0.1534 - val_acc: 0.9470\n",
      "Epoch 7/50\n",
      "9000/9000 [==============================] - 1s 96us/step - loss: 0.0885 - acc: 0.9664 - val_loss: 0.1666 - val_acc: 0.9450\n",
      "Epoch 8/50\n",
      "9000/9000 [==============================] - 1s 94us/step - loss: 0.0765 - acc: 0.9709 - val_loss: 0.1220 - val_acc: 0.9570\n",
      "Epoch 9/50\n",
      "9000/9000 [==============================] - 1s 95us/step - loss: 0.0638 - acc: 0.9762 - val_loss: 0.1581 - val_acc: 0.9460\n",
      "Epoch 10/50\n",
      "9000/9000 [==============================] - 1s 94us/step - loss: 0.0461 - acc: 0.9839 - val_loss: 0.1418 - val_acc: 0.9520\n",
      "Epoch 11/50\n",
      "9000/9000 [==============================] - 1s 95us/step - loss: 0.0499 - acc: 0.9820 - val_loss: 0.1463 - val_acc: 0.9560\n",
      "Epoch 12/50\n",
      "9000/9000 [==============================] - 1s 93us/step - loss: 0.0293 - acc: 0.9901 - val_loss: 0.1555 - val_acc: 0.9570\n",
      "Epoch 13/50\n",
      "9000/9000 [==============================] - 1s 93us/step - loss: 0.0307 - acc: 0.9898 - val_loss: 0.1584 - val_acc: 0.9590\n",
      "Epoch 14/50\n",
      "9000/9000 [==============================] - 1s 93us/step - loss: 0.0142 - acc: 0.9963 - val_loss: 0.1614 - val_acc: 0.9640\n",
      "Epoch 15/50\n",
      "9000/9000 [==============================] - 1s 93us/step - loss: 0.0074 - acc: 0.9987 - val_loss: 0.1683 - val_acc: 0.9570\n",
      "Epoch 16/50\n",
      "9000/9000 [==============================] - 1s 93us/step - loss: 0.0052 - acc: 0.9992 - val_loss: 0.1723 - val_acc: 0.9630\n",
      "Epoch 17/50\n",
      "9000/9000 [==============================] - 1s 93us/step - loss: 0.0096 - acc: 0.9973 - val_loss: 0.1979 - val_acc: 0.9570\n",
      "Epoch 18/50\n",
      "9000/9000 [==============================] - 1s 92us/step - loss: 0.0179 - acc: 0.9931 - val_loss: 0.2602 - val_acc: 0.9380\n",
      "Epoch 19/50\n",
      "9000/9000 [==============================] - 1s 92us/step - loss: 0.0287 - acc: 0.9896 - val_loss: 0.1954 - val_acc: 0.9500\n",
      "Epoch 20/50\n",
      "9000/9000 [==============================] - 1s 93us/step - loss: 0.0159 - acc: 0.9950 - val_loss: 0.1961 - val_acc: 0.9640\n",
      "Epoch 21/50\n",
      "9000/9000 [==============================] - 1s 93us/step - loss: 0.0035 - acc: 0.9997 - val_loss: 0.2042 - val_acc: 0.9590\n",
      "Epoch 22/50\n",
      "9000/9000 [==============================] - 1s 92us/step - loss: 0.0014 - acc: 1.0000 - val_loss: 0.2056 - val_acc: 0.9630\n",
      "Epoch 23/50\n",
      "9000/9000 [==============================] - 1s 92us/step - loss: 5.3802e-04 - acc: 1.0000 - val_loss: 0.2020 - val_acc: 0.9620\n",
      "Epoch 24/50\n",
      "9000/9000 [==============================] - 1s 91us/step - loss: 3.6316e-04 - acc: 1.0000 - val_loss: 0.2069 - val_acc: 0.9640\n",
      "Epoch 25/50\n",
      "9000/9000 [==============================] - 1s 91us/step - loss: 2.7735e-04 - acc: 1.0000 - val_loss: 0.2098 - val_acc: 0.9620\n",
      "Epoch 26/50\n",
      "9000/9000 [==============================] - 1s 92us/step - loss: 2.3537e-04 - acc: 1.0000 - val_loss: 0.2127 - val_acc: 0.9640\n",
      "Epoch 27/50\n",
      "9000/9000 [==============================] - 1s 93us/step - loss: 2.0419e-04 - acc: 1.0000 - val_loss: 0.2178 - val_acc: 0.9630\n",
      "Epoch 28/50\n",
      "9000/9000 [==============================] - 1s 92us/step - loss: 1.8049e-04 - acc: 1.0000 - val_loss: 0.2221 - val_acc: 0.9630\n",
      "Epoch 29/50\n",
      "9000/9000 [==============================] - 1s 94us/step - loss: 1.6082e-04 - acc: 1.0000 - val_loss: 0.2207 - val_acc: 0.9630\n",
      "Epoch 30/50\n",
      "9000/9000 [==============================] - 1s 95us/step - loss: 1.4605e-04 - acc: 1.0000 - val_loss: 0.2229 - val_acc: 0.9630\n",
      "Epoch 31/50\n",
      "9000/9000 [==============================] - 1s 93us/step - loss: 1.3408e-04 - acc: 1.0000 - val_loss: 0.2268 - val_acc: 0.9630\n",
      "Epoch 32/50\n",
      "9000/9000 [==============================] - 1s 95us/step - loss: 1.2291e-04 - acc: 1.0000 - val_loss: 0.2280 - val_acc: 0.9630\n",
      "Epoch 33/50\n",
      "9000/9000 [==============================] - 1s 93us/step - loss: 1.1357e-04 - acc: 1.0000 - val_loss: 0.2296 - val_acc: 0.9630\n",
      "Epoch 34/50\n",
      "9000/9000 [==============================] - 1s 92us/step - loss: 1.0328e-04 - acc: 1.0000 - val_loss: 0.2312 - val_acc: 0.9630\n",
      "Epoch 35/50\n",
      "9000/9000 [==============================] - 1s 93us/step - loss: 9.5932e-05 - acc: 1.0000 - val_loss: 0.2331 - val_acc: 0.9640\n",
      "Epoch 36/50\n",
      "9000/9000 [==============================] - 1s 92us/step - loss: 8.9859e-05 - acc: 1.0000 - val_loss: 0.2341 - val_acc: 0.9630\n",
      "Epoch 37/50\n",
      "9000/9000 [==============================] - 1s 93us/step - loss: 8.3354e-05 - acc: 1.0000 - val_loss: 0.2345 - val_acc: 0.9640\n",
      "Epoch 38/50\n",
      "9000/9000 [==============================] - 1s 94us/step - loss: 7.6937e-05 - acc: 1.0000 - val_loss: 0.2354 - val_acc: 0.9630\n",
      "Epoch 39/50\n",
      "9000/9000 [==============================] - 1s 94us/step - loss: 7.1918e-05 - acc: 1.0000 - val_loss: 0.2369 - val_acc: 0.9630\n",
      "Epoch 40/50\n",
      "9000/9000 [==============================] - 1s 95us/step - loss: 6.6931e-05 - acc: 1.0000 - val_loss: 0.2376 - val_acc: 0.9630\n",
      "Epoch 41/50\n",
      "9000/9000 [==============================] - 1s 93us/step - loss: 6.3082e-05 - acc: 1.0000 - val_loss: 0.2387 - val_acc: 0.9630\n",
      "Epoch 42/50\n",
      "9000/9000 [==============================] - 1s 105us/step - loss: 5.9122e-05 - acc: 1.0000 - val_loss: 0.2392 - val_acc: 0.9630\n",
      "Epoch 43/50\n",
      "9000/9000 [==============================] - 1s 101us/step - loss: 5.5314e-05 - acc: 1.0000 - val_loss: 0.2386 - val_acc: 0.9630\n",
      "Epoch 44/50\n",
      "9000/9000 [==============================] - 1s 99us/step - loss: 5.2306e-05 - acc: 1.0000 - val_loss: 0.2409 - val_acc: 0.9630\n",
      "Epoch 45/50\n",
      "9000/9000 [==============================] - 1s 107us/step - loss: 4.9276e-05 - acc: 1.0000 - val_loss: 0.2427 - val_acc: 0.9630\n",
      "Epoch 46/50\n",
      "9000/9000 [==============================] - 1s 95us/step - loss: 4.6259e-05 - acc: 1.0000 - val_loss: 0.2429 - val_acc: 0.9630\n",
      "Epoch 47/50\n",
      "9000/9000 [==============================] - 1s 97us/step - loss: 4.3557e-05 - acc: 1.0000 - val_loss: 0.2443 - val_acc: 0.9630\n",
      "Epoch 48/50\n",
      "9000/9000 [==============================] - 1s 93us/step - loss: 4.1211e-05 - acc: 1.0000 - val_loss: 0.2454 - val_acc: 0.9620\n",
      "Epoch 49/50\n",
      "9000/9000 [==============================] - 1s 94us/step - loss: 3.8863e-05 - acc: 1.0000 - val_loss: 0.2456 - val_acc: 0.9630\n",
      "Epoch 50/50\n",
      "9000/9000 [==============================] - 1s 93us/step - loss: 3.6512e-05 - acc: 1.0000 - val_loss: 0.2469 - val_acc: 0.9640\n"
     ]
    }
   ],
   "source": [
    "history = model.fit(x_train, y_train,\n",
    "                    batch_size=100,\n",
    "                    epochs=50,\n",
    "                    verbose=1,\n",
    "                    validation_split=0.1)"
   ]
  },
  {
   "cell_type": "code",
   "execution_count": 6,
   "metadata": {},
   "outputs": [
    {
     "data": {
      "image/png": "[encoded data removed]",
      "text/plain": [
       "<matplotlib.figure.Figure at 0x7f7e81aad710>"
      ]
     },
     "metadata": {},
     "output_type": "display_data"
    },
    {
     "data": {
      "image/png": "[encoded data removed]",
      "text/plain": [
       "<matplotlib.figure.Figure at 0x7f7e587d8cc0>"
      ]
     },
     "metadata": {},
     "output_type": "display_data"
    }
   ],
   "source": [
    "plot_history(history)"
   ]
  },
  {
   "cell_type": "code",
   "execution_count": 7,
   "metadata": {},
   "outputs": [
    {
     "name": "stdout",
     "output_type": "stream",
     "text": [
      "2000/2000 [==============================] - 0s 70us/step\n",
      "Test accuracy: 94.75%\n"
     ]
    }
   ],
   "source": [
    "evaluate_test_accuracy(model,x_test,y_test)"
   ]
  },
  {
   "cell_type": "code",
   "execution_count": null,
   "metadata": {},
   "outputs": [],
   "source": []
  }
 ],
 "metadata": {
  "kernelspec": {
   "display_name": "Python 3",
   "language": "python",
   "name": "python3"
  },
  "language_info": {
   "codemirror_mode": {
    "name": "ipython",
    "version": 3
   },
   "file_extension": ".py",
   "mimetype": "text/x-python",
   "name": "python",
   "nbconvert_exporter": "python",
   "pygments_lexer": "ipython3",
   "version": "3.5.5"
  }
 },
 "nbformat": 4,
 "nbformat_minor": 2
}
