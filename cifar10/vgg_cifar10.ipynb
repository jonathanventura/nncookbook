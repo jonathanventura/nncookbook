{
 "cells": [
  {
   "cell_type": "markdown",
   "metadata": {},
   "source": [
    "### Classification with CIFAR-10 Dataset and VGG-style network\n",
    "This script sets up a VGG-style network to classify two classes from the CIFAR-10 dataset."
   ]
  },
  {
   "cell_type": "code",
   "execution_count": 1,
   "metadata": {},
   "outputs": [
    {
     "name": "stderr",
     "output_type": "stream",
     "text": [
      "/usr/local/lib/python3.5/site-packages/h5py/__init__.py:36: FutureWarning: Conversion of the second argument of issubdtype from `float` to `np.floating` is deprecated. In future, it will be treated as `np.float64 == np.dtype(float).type`.\n",
      "  from ._conv import register_converters as _register_converters\n",
      "Using TensorFlow backend.\n"
     ]
    }
   ],
   "source": [
    "import keras\n",
    "from keras.datasets import mnist\n",
    "from keras.models import Sequential\n",
    "from keras.layers import Input, Conv2D, Dense, Flatten, MaxPooling2D\n",
    "from keras.optimizers import SGD\n",
    "from matplotlib import pyplot as plt\n",
    "import numpy as np\n",
    "from utils import *"
   ]
  },
  {
   "cell_type": "code",
   "execution_count": 2,
   "metadata": {},
   "outputs": [],
   "source": [
    "(x_train, y_train), (x_test, y_test) = get_cifar10_data(vectorize=False)"
   ]
  },
  {
   "cell_type": "markdown",
   "metadata": {
    "collapsed": true
   },
   "source": [
    "Build the model."
   ]
  },
  {
   "cell_type": "code",
   "execution_count": 3,
   "metadata": {},
   "outputs": [
    {
     "name": "stdout",
     "output_type": "stream",
     "text": [
      "_________________________________________________________________\n",
      "Layer (type)                 Output Shape              Param #   \n",
      "=================================================================\n",
      "conv2d_1 (Conv2D)            (None, 32, 32, 64)        1792      \n",
      "_________________________________________________________________\n",
      "conv2d_2 (Conv2D)            (None, 32, 32, 64)        36928     \n",
      "_________________________________________________________________\n",
      "conv2d_3 (Conv2D)            (None, 32, 32, 64)        36928     \n",
      "_________________________________________________________________\n",
      "max_pooling2d_1 (MaxPooling2 (None, 16, 16, 64)        0         \n",
      "_________________________________________________________________\n",
      "conv2d_4 (Conv2D)            (None, 16, 16, 128)       73856     \n",
      "_________________________________________________________________\n",
      "conv2d_5 (Conv2D)            (None, 16, 16, 128)       147584    \n",
      "_________________________________________________________________\n",
      "max_pooling2d_2 (MaxPooling2 (None, 8, 8, 128)         0         \n",
      "_________________________________________________________________\n",
      "conv2d_6 (Conv2D)            (None, 8, 8, 256)         295168    \n",
      "_________________________________________________________________\n",
      "flatten_1 (Flatten)          (None, 16384)             0         \n",
      "_________________________________________________________________\n",
      "dense_1 (Dense)              (None, 200)               3277000   \n",
      "_________________________________________________________________\n",
      "dense_2 (Dense)              (None, 1)                 201       \n",
      "=================================================================\n",
      "Total params: 3,869,457\n",
      "Trainable params: 3,869,457\n",
      "Non-trainable params: 0\n",
      "_________________________________________________________________\n"
     ]
    }
   ],
   "source": [
    "model = Sequential()\n",
    "model.add(Conv2D(64,3,padding='same',activation='relu',input_shape=(32,32,3)))\n",
    "model.add(Conv2D(64,3,padding='same',activation='relu'))\n",
    "model.add(Conv2D(64,3,padding='same',activation='relu'))\n",
    "model.add(MaxPooling2D(2,2))\n",
    "model.add(Conv2D(128,3,padding='same',activation='relu'))\n",
    "model.add(Conv2D(128,3,padding='same',activation='relu'))\n",
    "model.add(MaxPooling2D(2,2))\n",
    "model.add(Conv2D(256,3,padding='same',activation='relu'))\n",
    "model.add(Flatten())\n",
    "model.add(Dense(200,activation='relu'))\n",
    "model.add(Dense(1,activation='sigmoid'))\n",
    "model.summary()"
   ]
  },
  {
   "cell_type": "markdown",
   "metadata": {},
   "source": [
    "Set up the model to optimize the binary crossentropy loss using stochastic gradient descent."
   ]
  },
  {
   "cell_type": "code",
   "execution_count": 4,
   "metadata": {},
   "outputs": [],
   "source": [
    "model.compile(loss='binary_crossentropy',\n",
    "              optimizer='adam',\n",
    "              metrics=['accuracy'])"
   ]
  },
  {
   "cell_type": "markdown",
   "metadata": {},
   "source": [
    "Optimize the model over the training data."
   ]
  },
  {
   "cell_type": "code",
   "execution_count": 5,
   "metadata": {},
   "outputs": [
    {
     "name": "stdout",
     "output_type": "stream",
     "text": [
      "Train on 10000 samples, validate on 2000 samples\n",
      "Epoch 1/50\n",
      "10000/10000 [==============================] - 6s 645us/step - loss: 0.3646 - acc: 0.8358 - val_loss: 0.1937 - val_acc: 0.9235\n",
      "Epoch 2/50\n",
      "10000/10000 [==============================] - 5s 456us/step - loss: 0.1691 - acc: 0.9335 - val_loss: 0.1345 - val_acc: 0.9485\n",
      "Epoch 3/50\n",
      "10000/10000 [==============================] - 5s 457us/step - loss: 0.1135 - acc: 0.9572 - val_loss: 0.1350 - val_acc: 0.9455\n",
      "Epoch 4/50\n",
      "10000/10000 [==============================] - 5s 459us/step - loss: 0.0806 - acc: 0.9686 - val_loss: 0.1183 - val_acc: 0.9545\n",
      "Epoch 5/50\n",
      "10000/10000 [==============================] - 5s 456us/step - loss: 0.0570 - acc: 0.9773 - val_loss: 0.1355 - val_acc: 0.9610\n",
      "Epoch 6/50\n",
      "10000/10000 [==============================] - 5s 456us/step - loss: 0.0408 - acc: 0.9841 - val_loss: 0.1037 - val_acc: 0.9635\n",
      "Epoch 7/50\n",
      "10000/10000 [==============================] - 5s 451us/step - loss: 0.0277 - acc: 0.9893 - val_loss: 0.1097 - val_acc: 0.9665\n",
      "Epoch 8/50\n",
      "10000/10000 [==============================] - 4s 448us/step - loss: 0.0293 - acc: 0.9893 - val_loss: 0.1277 - val_acc: 0.9685\n",
      "Epoch 9/50\n",
      "10000/10000 [==============================] - 5s 451us/step - loss: 0.0208 - acc: 0.9931 - val_loss: 0.1454 - val_acc: 0.9670\n",
      "Epoch 10/50\n",
      "10000/10000 [==============================] - 5s 456us/step - loss: 0.0267 - acc: 0.9900 - val_loss: 0.1279 - val_acc: 0.9695\n",
      "Epoch 11/50\n",
      "10000/10000 [==============================] - 5s 454us/step - loss: 0.0153 - acc: 0.9946 - val_loss: 0.1310 - val_acc: 0.9700\n",
      "Epoch 12/50\n",
      "10000/10000 [==============================] - 5s 453us/step - loss: 0.0133 - acc: 0.9950 - val_loss: 0.1613 - val_acc: 0.9600\n",
      "Epoch 13/50\n",
      "10000/10000 [==============================] - 5s 455us/step - loss: 0.0198 - acc: 0.9938 - val_loss: 0.1114 - val_acc: 0.9720\n",
      "Epoch 14/50\n",
      "10000/10000 [==============================] - 5s 454us/step - loss: 0.0072 - acc: 0.9977 - val_loss: 0.1155 - val_acc: 0.9750\n",
      "Epoch 15/50\n",
      "10000/10000 [==============================] - 5s 458us/step - loss: 0.0210 - acc: 0.9923 - val_loss: 0.1309 - val_acc: 0.9665\n",
      "Epoch 16/50\n",
      "10000/10000 [==============================] - 5s 454us/step - loss: 0.0049 - acc: 0.9988 - val_loss: 0.1598 - val_acc: 0.9705\n",
      "Epoch 17/50\n",
      "10000/10000 [==============================] - 5s 452us/step - loss: 4.3076e-04 - acc: 1.0000 - val_loss: 0.1583 - val_acc: 0.9730\n",
      "Epoch 18/50\n",
      "10000/10000 [==============================] - 5s 452us/step - loss: 5.8470e-05 - acc: 1.0000 - val_loss: 0.1650 - val_acc: 0.9735\n",
      "Epoch 19/50\n",
      "10000/10000 [==============================] - 4s 449us/step - loss: 3.3253e-05 - acc: 1.0000 - val_loss: 0.1680 - val_acc: 0.9735\n",
      "Epoch 20/50\n",
      "10000/10000 [==============================] - 4s 447us/step - loss: 2.3975e-05 - acc: 1.0000 - val_loss: 0.1705 - val_acc: 0.9735\n",
      "Epoch 21/50\n",
      "10000/10000 [==============================] - 5s 451us/step - loss: 1.8532e-05 - acc: 1.0000 - val_loss: 0.1732 - val_acc: 0.9735\n",
      "Epoch 22/50\n",
      "10000/10000 [==============================] - 5s 456us/step - loss: 1.4249e-05 - acc: 1.0000 - val_loss: 0.1775 - val_acc: 0.9735\n",
      "Epoch 23/50\n",
      "10000/10000 [==============================] - 5s 458us/step - loss: 9.1584e-06 - acc: 1.0000 - val_loss: 0.1858 - val_acc: 0.9740\n",
      "Epoch 24/50\n",
      "10000/10000 [==============================] - 5s 455us/step - loss: 5.9373e-06 - acc: 1.0000 - val_loss: 0.1927 - val_acc: 0.9735\n",
      "Epoch 25/50\n",
      "10000/10000 [==============================] - 5s 459us/step - loss: 4.4023e-06 - acc: 1.0000 - val_loss: 0.1978 - val_acc: 0.9730\n",
      "Epoch 26/50\n",
      "10000/10000 [==============================] - 5s 460us/step - loss: 3.7207e-06 - acc: 1.0000 - val_loss: 0.2030 - val_acc: 0.9730\n",
      "Epoch 27/50\n",
      "10000/10000 [==============================] - 5s 459us/step - loss: 3.1296e-06 - acc: 1.0000 - val_loss: 0.2016 - val_acc: 0.9725\n",
      "Epoch 28/50\n",
      "10000/10000 [==============================] - 5s 457us/step - loss: 2.7650e-06 - acc: 1.0000 - val_loss: 0.2014 - val_acc: 0.9725\n",
      "Epoch 29/50\n",
      "10000/10000 [==============================] - 5s 458us/step - loss: 2.3820e-06 - acc: 1.0000 - val_loss: 0.2033 - val_acc: 0.9730\n",
      "Epoch 30/50\n",
      "10000/10000 [==============================] - 5s 458us/step - loss: 2.2033e-06 - acc: 1.0000 - val_loss: 0.2049 - val_acc: 0.9725\n",
      "Epoch 31/50\n",
      "10000/10000 [==============================] - 5s 458us/step - loss: 1.9104e-06 - acc: 1.0000 - val_loss: 0.2056 - val_acc: 0.9725\n",
      "Epoch 32/50\n",
      "10000/10000 [==============================] - 5s 460us/step - loss: 1.8416e-06 - acc: 1.0000 - val_loss: 0.2062 - val_acc: 0.9725\n",
      "Epoch 33/50\n",
      "10000/10000 [==============================] - 5s 459us/step - loss: 1.5918e-06 - acc: 1.0000 - val_loss: 0.2106 - val_acc: 0.9735\n",
      "Epoch 34/50\n",
      "10000/10000 [==============================] - 5s 462us/step - loss: 1.4415e-06 - acc: 1.0000 - val_loss: 0.2112 - val_acc: 0.9730\n",
      "Epoch 35/50\n",
      "10000/10000 [==============================] - 5s 460us/step - loss: 1.3164e-06 - acc: 1.0000 - val_loss: 0.2101 - val_acc: 0.9725\n",
      "Epoch 36/50\n",
      "10000/10000 [==============================] - 5s 459us/step - loss: 1.2442e-06 - acc: 1.0000 - val_loss: 0.2121 - val_acc: 0.9730\n",
      "Epoch 37/50\n",
      "10000/10000 [==============================] - 5s 457us/step - loss: 1.1547e-06 - acc: 1.0000 - val_loss: 0.2135 - val_acc: 0.9730\n",
      "Epoch 38/50\n",
      "10000/10000 [==============================] - 5s 458us/step - loss: 1.0686e-06 - acc: 1.0000 - val_loss: 0.2121 - val_acc: 0.9730\n",
      "Epoch 39/50\n",
      "10000/10000 [==============================] - 5s 458us/step - loss: 9.9650e-07 - acc: 1.0000 - val_loss: 0.2132 - val_acc: 0.9730\n",
      "Epoch 40/50\n",
      "10000/10000 [==============================] - 5s 459us/step - loss: 9.1250e-07 - acc: 1.0000 - val_loss: 0.2123 - val_acc: 0.9725\n",
      "Epoch 41/50\n",
      "10000/10000 [==============================] - 5s 457us/step - loss: 8.7131e-07 - acc: 1.0000 - val_loss: 0.2174 - val_acc: 0.9735\n",
      "Epoch 42/50\n",
      "10000/10000 [==============================] - 5s 457us/step - loss: 8.1775e-07 - acc: 1.0000 - val_loss: 0.2148 - val_acc: 0.9730\n",
      "Epoch 43/50\n",
      "10000/10000 [==============================] - 5s 456us/step - loss: 7.6119e-07 - acc: 1.0000 - val_loss: 0.2175 - val_acc: 0.9735\n",
      "Epoch 44/50\n",
      "10000/10000 [==============================] - 5s 457us/step - loss: 7.3319e-07 - acc: 1.0000 - val_loss: 0.2178 - val_acc: 0.9735\n",
      "Epoch 45/50\n",
      "10000/10000 [==============================] - 5s 460us/step - loss: 6.8195e-07 - acc: 1.0000 - val_loss: 0.2193 - val_acc: 0.9735\n",
      "Epoch 46/50\n",
      "10000/10000 [==============================] - 5s 459us/step - loss: 6.5001e-07 - acc: 1.0000 - val_loss: 0.2182 - val_acc: 0.9735\n",
      "Epoch 47/50\n",
      "10000/10000 [==============================] - 5s 458us/step - loss: 6.1227e-07 - acc: 1.0000 - val_loss: 0.2187 - val_acc: 0.9735\n",
      "Epoch 48/50\n",
      "10000/10000 [==============================] - 5s 458us/step - loss: 5.8492e-07 - acc: 1.0000 - val_loss: 0.2195 - val_acc: 0.9735\n",
      "Epoch 49/50\n",
      "10000/10000 [==============================] - 5s 461us/step - loss: 5.5747e-07 - acc: 1.0000 - val_loss: 0.2216 - val_acc: 0.9735\n",
      "Epoch 50/50\n",
      "10000/10000 [==============================] - 5s 461us/step - loss: 5.3372e-07 - acc: 1.0000 - val_loss: 0.2204 - val_acc: 0.9735\n"
     ]
    }
   ],
   "source": [
    "history = model.fit(x_train, y_train,\n",
    "                    batch_size=100,\n",
    "                    epochs=50,\n",
    "                    verbose=1,\n",
    "                    validation_data=(x_test, y_test))"
   ]
  },
  {
   "cell_type": "code",
   "execution_count": 6,
   "metadata": {},
   "outputs": [
    {
     "data": {
      "image/png": "[encoded data removed]",
      "text/plain": [
       "<matplotlib.figure.Figure at 0x7f52bf52ca90>"
      ]
     },
     "metadata": {},
     "output_type": "display_data"
    },
    {
     "data": {
      "image/png": "[encoded data removed]",
      "text/plain": [
       "<matplotlib.figure.Figure at 0x7f5378075518>"
      ]
     },
     "metadata": {},
     "output_type": "display_data"
    }
   ],
   "source": [
    "plot_history(history)"
   ]
  },
  {
   "cell_type": "code",
   "execution_count": 7,
   "metadata": {},
   "outputs": [
    {
     "name": "stdout",
     "output_type": "stream",
     "text": [
      "2000/2000 [==============================] - 0s 191us/step\n",
      "Test accuracy: 97.35%\n"
     ]
    }
   ],
   "source": [
    "evaluate_test_accuracy(model,x_test,y_test)"
   ]
  }
 ],
 "metadata": {
  "kernelspec": {
   "display_name": "Python 3",
   "language": "python",
   "name": "python3"
  },
  "language_info": {
   "codemirror_mode": {
    "name": "ipython",
    "version": 3
   },
   "file_extension": ".py",
   "mimetype": "text/x-python",
   "name": "python",
   "nbconvert_exporter": "python",
   "pygments_lexer": "ipython3",
   "version": "3.5.5"
  }
 },
 "nbformat": 4,
 "nbformat_minor": 2
}
