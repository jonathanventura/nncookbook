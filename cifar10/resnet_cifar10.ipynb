{
 "cells": [
  {
   "cell_type": "markdown",
   "metadata": {},
   "source": [
    "### Classification with CIFAR-10 Dataset and ResNet network\n",
    "This script sets up a ResNet-style network to classify two classes from the CIFAR-10 dataset."
   ]
  },
  {
   "cell_type": "code",
   "execution_count": 1,
   "metadata": {},
   "outputs": [
    {
     "name": "stderr",
     "output_type": "stream",
     "text": [
      "/usr/local/lib/python3.5/site-packages/h5py/__init__.py:36: FutureWarning: Conversion of the second argument of issubdtype from `float` to `np.floating` is deprecated. In future, it will be treated as `np.float64 == np.dtype(float).type`.\n",
      "  from ._conv import register_converters as _register_converters\n",
      "Using TensorFlow backend.\n"
     ]
    }
   ],
   "source": [
    "import keras\n",
    "import keras.backend as K\n",
    "from keras.datasets import mnist\n",
    "from keras.models import Model\n",
    "from keras.layers import Input, Conv2D, Dense, Flatten, MaxPooling2D, Add, Activation, Dropout\n",
    "from keras.optimizers import SGD\n",
    "from matplotlib import pyplot as plt\n",
    "import numpy as np\n",
    "from utils import *"
   ]
  },
  {
   "cell_type": "code",
   "execution_count": 2,
   "metadata": {},
   "outputs": [],
   "source": [
    "(x_train, y_train), (x_test, y_test) = get_cifar10_data(vectorize=False)"
   ]
  },
  {
   "cell_type": "markdown",
   "metadata": {
    "collapsed": true
   },
   "source": [
    "Build the model."
   ]
  },
  {
   "cell_type": "code",
   "execution_count": 3,
   "metadata": {},
   "outputs": [
    {
     "name": "stdout",
     "output_type": "stream",
     "text": [
      "__________________________________________________________________________________________________\n",
      "Layer (type)                    Output Shape         Param #     Connected to                     \n",
      "==================================================================================================\n",
      "input_1 (InputLayer)            (None, 32, 32, 3)    0                                            \n",
      "__________________________________________________________________________________________________\n",
      "conv2d_2 (Conv2D)               (None, 16, 16, 64)   1792        input_1[0][0]                    \n",
      "__________________________________________________________________________________________________\n",
      "conv2d_3 (Conv2D)               (None, 16, 16, 64)   36928       conv2d_2[0][0]                   \n",
      "__________________________________________________________________________________________________\n",
      "conv2d_1 (Conv2D)               (None, 16, 16, 64)   256         input_1[0][0]                    \n",
      "__________________________________________________________________________________________________\n",
      "add_1 (Add)                     (None, 16, 16, 64)   0           conv2d_3[0][0]                   \n",
      "                                                                 conv2d_1[0][0]                   \n",
      "__________________________________________________________________________________________________\n",
      "activation_1 (Activation)       (None, 16, 16, 64)   0           add_1[0][0]                      \n",
      "__________________________________________________________________________________________________\n",
      "conv2d_5 (Conv2D)               (None, 16, 16, 64)   36928       activation_1[0][0]               \n",
      "__________________________________________________________________________________________________\n",
      "conv2d_6 (Conv2D)               (None, 16, 16, 64)   36928       conv2d_5[0][0]                   \n",
      "__________________________________________________________________________________________________\n",
      "conv2d_4 (Conv2D)               (None, 16, 16, 64)   4160        activation_1[0][0]               \n",
      "__________________________________________________________________________________________________\n",
      "add_2 (Add)                     (None, 16, 16, 64)   0           conv2d_6[0][0]                   \n",
      "                                                                 conv2d_4[0][0]                   \n",
      "__________________________________________________________________________________________________\n",
      "activation_2 (Activation)       (None, 16, 16, 64)   0           add_2[0][0]                      \n",
      "__________________________________________________________________________________________________\n",
      "conv2d_8 (Conv2D)               (None, 8, 8, 128)    73856       activation_2[0][0]               \n",
      "__________________________________________________________________________________________________\n",
      "conv2d_9 (Conv2D)               (None, 8, 8, 128)    147584      conv2d_8[0][0]                   \n",
      "__________________________________________________________________________________________________\n",
      "conv2d_7 (Conv2D)               (None, 8, 8, 128)    8320        activation_2[0][0]               \n",
      "__________________________________________________________________________________________________\n",
      "add_3 (Add)                     (None, 8, 8, 128)    0           conv2d_9[0][0]                   \n",
      "                                                                 conv2d_7[0][0]                   \n",
      "__________________________________________________________________________________________________\n",
      "activation_3 (Activation)       (None, 8, 8, 128)    0           add_3[0][0]                      \n",
      "__________________________________________________________________________________________________\n",
      "conv2d_11 (Conv2D)              (None, 8, 8, 128)    147584      activation_3[0][0]               \n",
      "__________________________________________________________________________________________________\n",
      "conv2d_12 (Conv2D)              (None, 8, 8, 128)    147584      conv2d_11[0][0]                  \n",
      "__________________________________________________________________________________________________\n",
      "conv2d_10 (Conv2D)              (None, 8, 8, 128)    16512       activation_3[0][0]               \n",
      "__________________________________________________________________________________________________\n",
      "add_4 (Add)                     (None, 8, 8, 128)    0           conv2d_12[0][0]                  \n",
      "                                                                 conv2d_10[0][0]                  \n",
      "__________________________________________________________________________________________________\n",
      "activation_4 (Activation)       (None, 8, 8, 128)    0           add_4[0][0]                      \n",
      "__________________________________________________________________________________________________\n",
      "conv2d_14 (Conv2D)              (None, 4, 4, 256)    295168      activation_4[0][0]               \n",
      "__________________________________________________________________________________________________\n",
      "conv2d_15 (Conv2D)              (None, 4, 4, 256)    590080      conv2d_14[0][0]                  \n",
      "__________________________________________________________________________________________________\n",
      "conv2d_13 (Conv2D)              (None, 4, 4, 256)    33024       activation_4[0][0]               \n",
      "__________________________________________________________________________________________________\n",
      "add_5 (Add)                     (None, 4, 4, 256)    0           conv2d_15[0][0]                  \n",
      "                                                                 conv2d_13[0][0]                  \n",
      "__________________________________________________________________________________________________\n",
      "activation_5 (Activation)       (None, 4, 4, 256)    0           add_5[0][0]                      \n",
      "__________________________________________________________________________________________________\n",
      "conv2d_17 (Conv2D)              (None, 4, 4, 256)    590080      activation_5[0][0]               \n",
      "__________________________________________________________________________________________________\n",
      "conv2d_18 (Conv2D)              (None, 4, 4, 256)    590080      conv2d_17[0][0]                  \n",
      "__________________________________________________________________________________________________\n",
      "conv2d_16 (Conv2D)              (None, 4, 4, 256)    65792       activation_5[0][0]               \n",
      "__________________________________________________________________________________________________\n",
      "add_6 (Add)                     (None, 4, 4, 256)    0           conv2d_18[0][0]                  \n",
      "                                                                 conv2d_16[0][0]                  \n",
      "__________________________________________________________________________________________________\n",
      "activation_6 (Activation)       (None, 4, 4, 256)    0           add_6[0][0]                      \n",
      "__________________________________________________________________________________________________\n",
      "flatten_1 (Flatten)             (None, 4096)         0           activation_6[0][0]               \n",
      "__________________________________________________________________________________________________\n",
      "dense_1 (Dense)                 (None, 200)          819400      flatten_1[0][0]                  \n",
      "__________________________________________________________________________________________________\n",
      "dropout_1 (Dropout)             (None, 200)          0           dense_1[0][0]                    \n",
      "__________________________________________________________________________________________________\n",
      "dense_2 (Dense)                 (None, 1)            201         dropout_1[0][0]                  \n",
      "==================================================================================================\n",
      "Total params: 3,642,257\n",
      "Trainable params: 3,642,257\n",
      "Non-trainable params: 0\n",
      "__________________________________________________________________________________________________\n"
     ]
    }
   ],
   "source": [
    "def res_block(x,c,s=1):\n",
    "    if K.shape(x)[3] != c or s != 1:\n",
    "        x_save = Conv2D(c,1,strides=s,activation=None)(x)\n",
    "    else:\n",
    "        x_save = x\n",
    "    x = Conv2D(c,3,strides=s,padding='same',activation='relu',kernel_initializer='he_normal')(x)\n",
    "    x = Conv2D(c,3,padding='same',activation=None,kernel_initializer='he_normal')(x)\n",
    "    x = Add()([x,x_save])\n",
    "    x = Activation('relu')(x)\n",
    "    return x\n",
    "\n",
    "x_in = Input((32,32,3))\n",
    "\n",
    "x = res_block(x_in,64,2)\n",
    "x = res_block(x,64)\n",
    "\n",
    "x = res_block(x,128,2)\n",
    "x = res_block(x,128)\n",
    "\n",
    "x = res_block(x,256,2)\n",
    "x = res_block(x,256)\n",
    "\n",
    "x = Flatten()(x)\n",
    "x = Dense(200,kernel_initializer='he_normal')(x)\n",
    "x = Dropout(0.5)(x)\n",
    "x = Dense(1,activation='sigmoid',kernel_initializer='he_normal')(x)\n",
    "model = Model(inputs=x_in,outputs=x)\n",
    "model.summary()"
   ]
  },
  {
   "cell_type": "markdown",
   "metadata": {},
   "source": [
    "Set up the model to optimize the categorical crossentropy loss using stochastic gradient descent."
   ]
  },
  {
   "cell_type": "code",
   "execution_count": 4,
   "metadata": {},
   "outputs": [],
   "source": [
    "model.compile(loss='binary_crossentropy',\n",
    "              optimizer='adam',\n",
    "              metrics=['accuracy'])"
   ]
  },
  {
   "cell_type": "markdown",
   "metadata": {},
   "source": [
    "Optimize the model over the training data."
   ]
  },
  {
   "cell_type": "code",
   "execution_count": 5,
   "metadata": {},
   "outputs": [
    {
     "name": "stdout",
     "output_type": "stream",
     "text": [
      "Train on 9000 samples, validate on 1000 samples\n",
      "Epoch 1/50\n",
      "9000/9000 [==============================] - 6s 621us/step - loss: 0.4904 - acc: 0.7653 - val_loss: 0.3266 - val_acc: 0.8510\n",
      "Epoch 2/50\n",
      "9000/9000 [==============================] - 4s 400us/step - loss: 0.2588 - acc: 0.8910 - val_loss: 0.1980 - val_acc: 0.9330\n",
      "Epoch 3/50\n",
      "9000/9000 [==============================] - 4s 398us/step - loss: 0.2065 - acc: 0.9153 - val_loss: 0.1707 - val_acc: 0.9380\n",
      "Epoch 4/50\n",
      "9000/9000 [==============================] - 4s 401us/step - loss: 0.1445 - acc: 0.9433 - val_loss: 0.1326 - val_acc: 0.9410\n",
      "Epoch 5/50\n",
      "9000/9000 [==============================] - 4s 398us/step - loss: 0.1031 - acc: 0.9611 - val_loss: 0.1933 - val_acc: 0.9480\n",
      "Epoch 6/50\n",
      "9000/9000 [==============================] - 4s 399us/step - loss: 0.0822 - acc: 0.9662 - val_loss: 0.1672 - val_acc: 0.9440\n",
      "Epoch 7/50\n",
      "9000/9000 [==============================] - 4s 395us/step - loss: 0.0695 - acc: 0.9718 - val_loss: 0.1655 - val_acc: 0.9290\n",
      "Epoch 8/50\n",
      "9000/9000 [==============================] - 4s 398us/step - loss: 0.0490 - acc: 0.9813 - val_loss: 0.1348 - val_acc: 0.9590\n",
      "Epoch 9/50\n",
      "9000/9000 [==============================] - 4s 392us/step - loss: 0.0385 - acc: 0.9857 - val_loss: 0.1684 - val_acc: 0.9490\n",
      "Epoch 10/50\n",
      "9000/9000 [==============================] - 4s 397us/step - loss: 0.0359 - acc: 0.9858 - val_loss: 0.1795 - val_acc: 0.9470\n",
      "Epoch 11/50\n",
      "9000/9000 [==============================] - 4s 400us/step - loss: 0.0241 - acc: 0.9916 - val_loss: 0.1676 - val_acc: 0.9510\n",
      "Epoch 12/50\n",
      "9000/9000 [==============================] - 4s 396us/step - loss: 0.0210 - acc: 0.9933 - val_loss: 0.1515 - val_acc: 0.9590\n",
      "Epoch 13/50\n",
      "9000/9000 [==============================] - 4s 399us/step - loss: 0.0181 - acc: 0.9942 - val_loss: 0.2051 - val_acc: 0.9450\n",
      "Epoch 14/50\n",
      "9000/9000 [==============================] - 4s 397us/step - loss: 0.0305 - acc: 0.9880 - val_loss: 0.1681 - val_acc: 0.9580\n",
      "Epoch 15/50\n",
      "9000/9000 [==============================] - 4s 399us/step - loss: 0.0244 - acc: 0.9901 - val_loss: 0.2178 - val_acc: 0.9580\n",
      "Epoch 16/50\n",
      "9000/9000 [==============================] - 4s 398us/step - loss: 0.0240 - acc: 0.9924 - val_loss: 0.1549 - val_acc: 0.9550\n",
      "Epoch 17/50\n",
      "9000/9000 [==============================] - 4s 396us/step - loss: 0.0164 - acc: 0.9936 - val_loss: 0.1764 - val_acc: 0.9570\n",
      "Epoch 18/50\n",
      "9000/9000 [==============================] - 4s 395us/step - loss: 0.0102 - acc: 0.9969 - val_loss: 0.1630 - val_acc: 0.9670\n",
      "Epoch 19/50\n",
      "9000/9000 [==============================] - 4s 394us/step - loss: 0.0114 - acc: 0.9964 - val_loss: 0.1682 - val_acc: 0.9580\n",
      "Epoch 20/50\n",
      "9000/9000 [==============================] - 4s 402us/step - loss: 0.0178 - acc: 0.9940 - val_loss: 0.1889 - val_acc: 0.9440\n",
      "Epoch 21/50\n",
      "9000/9000 [==============================] - 4s 401us/step - loss: 0.0239 - acc: 0.9924 - val_loss: 0.1443 - val_acc: 0.9590\n",
      "Epoch 22/50\n",
      "9000/9000 [==============================] - 4s 399us/step - loss: 0.0159 - acc: 0.9946 - val_loss: 0.2096 - val_acc: 0.9480\n",
      "Epoch 23/50\n",
      "9000/9000 [==============================] - 4s 395us/step - loss: 0.0081 - acc: 0.9973 - val_loss: 0.2207 - val_acc: 0.9430\n",
      "Epoch 24/50\n",
      "9000/9000 [==============================] - 4s 400us/step - loss: 0.0118 - acc: 0.9959 - val_loss: 0.1862 - val_acc: 0.9550\n",
      "Epoch 25/50\n",
      "9000/9000 [==============================] - 4s 400us/step - loss: 0.0111 - acc: 0.9964 - val_loss: 0.2407 - val_acc: 0.9470\n",
      "Epoch 26/50\n",
      "9000/9000 [==============================] - 4s 399us/step - loss: 0.0271 - acc: 0.9909 - val_loss: 0.2100 - val_acc: 0.9390\n",
      "Epoch 27/50\n",
      "9000/9000 [==============================] - 4s 403us/step - loss: 0.0083 - acc: 0.9974 - val_loss: 0.2131 - val_acc: 0.9510\n",
      "Epoch 28/50\n",
      "9000/9000 [==============================] - 4s 398us/step - loss: 0.0028 - acc: 0.9990 - val_loss: 0.2700 - val_acc: 0.9510\n",
      "Epoch 29/50\n",
      "9000/9000 [==============================] - 4s 399us/step - loss: 0.0216 - acc: 0.9924 - val_loss: 0.1819 - val_acc: 0.9560\n",
      "Epoch 30/50\n",
      "9000/9000 [==============================] - 4s 397us/step - loss: 0.0206 - acc: 0.9936 - val_loss: 0.1308 - val_acc: 0.9640\n",
      "Epoch 31/50\n",
      "9000/9000 [==============================] - 4s 395us/step - loss: 0.0077 - acc: 0.9976 - val_loss: 0.2139 - val_acc: 0.9560\n",
      "Epoch 32/50\n",
      "9000/9000 [==============================] - 4s 400us/step - loss: 0.0147 - acc: 0.9958 - val_loss: 0.1942 - val_acc: 0.9590\n",
      "Epoch 33/50\n",
      "9000/9000 [==============================] - 4s 402us/step - loss: 0.0115 - acc: 0.9962 - val_loss: 0.1782 - val_acc: 0.9580\n",
      "Epoch 34/50\n",
      "9000/9000 [==============================] - 4s 393us/step - loss: 0.0041 - acc: 0.9987 - val_loss: 0.1862 - val_acc: 0.9640\n",
      "Epoch 35/50\n",
      "9000/9000 [==============================] - 4s 397us/step - loss: 0.0117 - acc: 0.9968 - val_loss: 0.1498 - val_acc: 0.9590\n",
      "Epoch 36/50\n",
      "9000/9000 [==============================] - 4s 400us/step - loss: 0.0112 - acc: 0.9959 - val_loss: 0.2389 - val_acc: 0.9540\n",
      "Epoch 37/50\n",
      "9000/9000 [==============================] - 4s 399us/step - loss: 0.0105 - acc: 0.9966 - val_loss: 0.2077 - val_acc: 0.9570\n",
      "Epoch 38/50\n",
      "9000/9000 [==============================] - 4s 400us/step - loss: 0.0111 - acc: 0.9967 - val_loss: 0.1460 - val_acc: 0.9600\n",
      "Epoch 39/50\n",
      "9000/9000 [==============================] - 4s 399us/step - loss: 0.0077 - acc: 0.9973 - val_loss: 0.2339 - val_acc: 0.9530\n",
      "Epoch 40/50\n",
      "9000/9000 [==============================] - 4s 399us/step - loss: 0.0117 - acc: 0.9973 - val_loss: 0.1458 - val_acc: 0.9690\n",
      "Epoch 41/50\n",
      "9000/9000 [==============================] - 4s 399us/step - loss: 0.0107 - acc: 0.9963 - val_loss: 0.1615 - val_acc: 0.9650\n",
      "Epoch 42/50\n",
      "9000/9000 [==============================] - 4s 398us/step - loss: 0.0085 - acc: 0.9973 - val_loss: 0.1667 - val_acc: 0.9650\n",
      "Epoch 43/50\n",
      "9000/9000 [==============================] - 4s 398us/step - loss: 0.0082 - acc: 0.9969 - val_loss: 0.1688 - val_acc: 0.9680\n",
      "Epoch 44/50\n",
      "9000/9000 [==============================] - 4s 393us/step - loss: 0.0105 - acc: 0.9973 - val_loss: 0.2702 - val_acc: 0.9540\n",
      "Epoch 45/50\n",
      "9000/9000 [==============================] - 4s 397us/step - loss: 0.0086 - acc: 0.9971 - val_loss: 0.2047 - val_acc: 0.9590\n",
      "Epoch 46/50\n",
      "9000/9000 [==============================] - 4s 398us/step - loss: 0.0166 - acc: 0.9942 - val_loss: 0.1818 - val_acc: 0.9590\n",
      "Epoch 47/50\n",
      "9000/9000 [==============================] - 4s 397us/step - loss: 0.0085 - acc: 0.9971 - val_loss: 0.1677 - val_acc: 0.9580\n",
      "Epoch 48/50\n",
      "9000/9000 [==============================] - 4s 404us/step - loss: 0.0133 - acc: 0.9959 - val_loss: 0.1429 - val_acc: 0.9650\n",
      "Epoch 49/50\n",
      "9000/9000 [==============================] - 4s 400us/step - loss: 0.0185 - acc: 0.9923 - val_loss: 0.1813 - val_acc: 0.9650\n",
      "Epoch 50/50\n",
      "9000/9000 [==============================] - 4s 399us/step - loss: 0.0196 - acc: 0.9930 - val_loss: 0.1560 - val_acc: 0.9510\n"
     ]
    }
   ],
   "source": [
    "history = model.fit(x_train, y_train,\n",
    "                    batch_size=100,\n",
    "                    epochs=50,\n",
    "                    verbose=1,\n",
    "                    validation_split=0.1)"
   ]
  },
  {
   "cell_type": "code",
   "execution_count": 6,
   "metadata": {},
   "outputs": [
    {
     "data": {
      "image/png": "[encoded data removed]",
      "text/plain": [
       "<matplotlib.figure.Figure at 0x7f648732a7f0>"
      ]
     },
     "metadata": {},
     "output_type": "display_data"
    },
    {
     "data": {
      "image/png": "[encoded data removed]",
      "text/plain": [
       "<matplotlib.figure.Figure at 0x7f6470731390>"
      ]
     },
     "metadata": {},
     "output_type": "display_data"
    }
   ],
   "source": [
    "plot_history(history)"
   ]
  },
  {
   "cell_type": "code",
   "execution_count": 7,
   "metadata": {},
   "outputs": [
    {
     "name": "stdout",
     "output_type": "stream",
     "text": [
      "2000/2000 [==============================] - 0s 195us/step\n",
      "Test accuracy: 94.75%\n"
     ]
    }
   ],
   "source": [
    "evaluate_test_accuracy(model,x_test,y_test)"
   ]
  },
  {
   "cell_type": "code",
   "execution_count": null,
   "metadata": {},
   "outputs": [],
   "source": []
  }
 ],
 "metadata": {
  "kernelspec": {
   "display_name": "Python 3",
   "language": "python",
   "name": "python3"
  },
  "language_info": {
   "codemirror_mode": {
    "name": "ipython",
    "version": 3
   },
   "file_extension": ".py",
   "mimetype": "text/x-python",
   "name": "python",
   "nbconvert_exporter": "python",
   "pygments_lexer": "ipython3",
   "version": "3.5.5"
  }
 },
 "nbformat": 4,
 "nbformat_minor": 2
}
