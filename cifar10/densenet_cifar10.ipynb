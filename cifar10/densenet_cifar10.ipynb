{
 "cells": [
  {
   "cell_type": "markdown",
   "metadata": {},
   "source": [
    "### Classification with CIFAR-10 Dataset and DenseNet network\n",
    "This script sets up a DenseNet-style network to classify digits from the CIFAR-10 dataset."
   ]
  },
  {
   "cell_type": "code",
   "execution_count": 1,
   "metadata": {},
   "outputs": [
    {
     "name": "stderr",
     "output_type": "stream",
     "text": [
      "/usr/local/lib/python3.5/site-packages/h5py/__init__.py:36: FutureWarning: Conversion of the second argument of issubdtype from `float` to `np.floating` is deprecated. In future, it will be treated as `np.float64 == np.dtype(float).type`.\n",
      "  from ._conv import register_converters as _register_converters\n",
      "Using TensorFlow backend.\n"
     ]
    }
   ],
   "source": [
    "import keras\n",
    "import keras.backend as K\n",
    "from keras.datasets import mnist\n",
    "from keras.models import Model\n",
    "from keras.layers import Input, Conv2D, Dense, Flatten, MaxPooling2D, Add, Activation, Dropout, Concatenate\n",
    "from keras.optimizers import SGD\n",
    "from matplotlib import pyplot as plt\n",
    "import numpy as np\n",
    "from utils import *"
   ]
  },
  {
   "cell_type": "code",
   "execution_count": 2,
   "metadata": {},
   "outputs": [],
   "source": [
    "(x_train, y_train), (x_test, y_test) = get_cifar10_data(vectorize=False)"
   ]
  },
  {
   "cell_type": "markdown",
   "metadata": {
    "collapsed": true
   },
   "source": [
    "Build the model."
   ]
  },
  {
   "cell_type": "code",
   "execution_count": 3,
   "metadata": {},
   "outputs": [
    {
     "name": "stdout",
     "output_type": "stream",
     "text": [
      "__________________________________________________________________________________________________\n",
      "Layer (type)                    Output Shape         Param #     Connected to                     \n",
      "==================================================================================================\n",
      "input_1 (InputLayer)            (None, 32, 32, 3)    0                                            \n",
      "__________________________________________________________________________________________________\n",
      "conv2d_1 (Conv2D)               (None, 32, 32, 32)   896         input_1[0][0]                    \n",
      "__________________________________________________________________________________________________\n",
      "conv2d_2 (Conv2D)               (None, 32, 32, 32)   9248        conv2d_1[0][0]                   \n",
      "__________________________________________________________________________________________________\n",
      "concatenate_1 (Concatenate)     (None, 32, 32, 64)   0           conv2d_1[0][0]                   \n",
      "                                                                 conv2d_2[0][0]                   \n",
      "__________________________________________________________________________________________________\n",
      "conv2d_3 (Conv2D)               (None, 32, 32, 32)   18464       concatenate_1[0][0]              \n",
      "__________________________________________________________________________________________________\n",
      "concatenate_2 (Concatenate)     (None, 32, 32, 96)   0           conv2d_1[0][0]                   \n",
      "                                                                 conv2d_2[0][0]                   \n",
      "                                                                 conv2d_3[0][0]                   \n",
      "__________________________________________________________________________________________________\n",
      "conv2d_4 (Conv2D)               (None, 32, 32, 32)   27680       concatenate_2[0][0]              \n",
      "__________________________________________________________________________________________________\n",
      "concatenate_3 (Concatenate)     (None, 32, 32, 128)  0           conv2d_1[0][0]                   \n",
      "                                                                 conv2d_2[0][0]                   \n",
      "                                                                 conv2d_3[0][0]                   \n",
      "                                                                 conv2d_4[0][0]                   \n",
      "__________________________________________________________________________________________________\n",
      "conv2d_5 (Conv2D)               (None, 32, 32, 32)   36896       concatenate_3[0][0]              \n",
      "__________________________________________________________________________________________________\n",
      "concatenate_4 (Concatenate)     (None, 32, 32, 160)  0           conv2d_1[0][0]                   \n",
      "                                                                 conv2d_2[0][0]                   \n",
      "                                                                 conv2d_3[0][0]                   \n",
      "                                                                 conv2d_4[0][0]                   \n",
      "                                                                 conv2d_5[0][0]                   \n",
      "__________________________________________________________________________________________________\n",
      "conv2d_6 (Conv2D)               (None, 32, 32, 32)   46112       concatenate_4[0][0]              \n",
      "__________________________________________________________________________________________________\n",
      "concatenate_5 (Concatenate)     (None, 32, 32, 192)  0           conv2d_1[0][0]                   \n",
      "                                                                 conv2d_2[0][0]                   \n",
      "                                                                 conv2d_3[0][0]                   \n",
      "                                                                 conv2d_4[0][0]                   \n",
      "                                                                 conv2d_5[0][0]                   \n",
      "                                                                 conv2d_6[0][0]                   \n",
      "__________________________________________________________________________________________________\n",
      "conv2d_7 (Conv2D)               (None, 32, 32, 32)   55328       concatenate_5[0][0]              \n",
      "__________________________________________________________________________________________________\n",
      "conv2d_8 (Conv2D)               (None, 32, 32, 16)   528         conv2d_7[0][0]                   \n",
      "__________________________________________________________________________________________________\n",
      "max_pooling2d_1 (MaxPooling2D)  (None, 16, 16, 16)   0           conv2d_8[0][0]                   \n",
      "__________________________________________________________________________________________________\n",
      "conv2d_9 (Conv2D)               (None, 16, 16, 32)   4640        max_pooling2d_1[0][0]            \n",
      "__________________________________________________________________________________________________\n",
      "concatenate_6 (Concatenate)     (None, 16, 16, 48)   0           max_pooling2d_1[0][0]            \n",
      "                                                                 conv2d_9[0][0]                   \n",
      "__________________________________________________________________________________________________\n",
      "conv2d_10 (Conv2D)              (None, 16, 16, 32)   13856       concatenate_6[0][0]              \n",
      "__________________________________________________________________________________________________\n",
      "concatenate_7 (Concatenate)     (None, 16, 16, 80)   0           max_pooling2d_1[0][0]            \n",
      "                                                                 conv2d_9[0][0]                   \n",
      "                                                                 conv2d_10[0][0]                  \n",
      "__________________________________________________________________________________________________\n",
      "conv2d_11 (Conv2D)              (None, 16, 16, 32)   23072       concatenate_7[0][0]              \n",
      "__________________________________________________________________________________________________\n",
      "concatenate_8 (Concatenate)     (None, 16, 16, 112)  0           max_pooling2d_1[0][0]            \n",
      "                                                                 conv2d_9[0][0]                   \n",
      "                                                                 conv2d_10[0][0]                  \n",
      "                                                                 conv2d_11[0][0]                  \n",
      "__________________________________________________________________________________________________\n",
      "conv2d_12 (Conv2D)              (None, 16, 16, 32)   32288       concatenate_8[0][0]              \n",
      "__________________________________________________________________________________________________\n",
      "concatenate_9 (Concatenate)     (None, 16, 16, 144)  0           max_pooling2d_1[0][0]            \n",
      "                                                                 conv2d_9[0][0]                   \n",
      "                                                                 conv2d_10[0][0]                  \n",
      "                                                                 conv2d_11[0][0]                  \n",
      "                                                                 conv2d_12[0][0]                  \n",
      "__________________________________________________________________________________________________\n",
      "conv2d_13 (Conv2D)              (None, 16, 16, 32)   41504       concatenate_9[0][0]              \n",
      "__________________________________________________________________________________________________\n",
      "concatenate_10 (Concatenate)    (None, 16, 16, 176)  0           max_pooling2d_1[0][0]            \n",
      "                                                                 conv2d_9[0][0]                   \n",
      "                                                                 conv2d_10[0][0]                  \n",
      "                                                                 conv2d_11[0][0]                  \n",
      "                                                                 conv2d_12[0][0]                  \n",
      "                                                                 conv2d_13[0][0]                  \n",
      "__________________________________________________________________________________________________\n",
      "conv2d_14 (Conv2D)              (None, 16, 16, 32)   50720       concatenate_10[0][0]             \n",
      "__________________________________________________________________________________________________\n",
      "concatenate_11 (Concatenate)    (None, 16, 16, 208)  0           max_pooling2d_1[0][0]            \n",
      "                                                                 conv2d_9[0][0]                   \n",
      "                                                                 conv2d_10[0][0]                  \n",
      "                                                                 conv2d_11[0][0]                  \n",
      "                                                                 conv2d_12[0][0]                  \n",
      "                                                                 conv2d_13[0][0]                  \n",
      "                                                                 conv2d_14[0][0]                  \n",
      "__________________________________________________________________________________________________\n",
      "conv2d_15 (Conv2D)              (None, 16, 16, 32)   59936       concatenate_11[0][0]             \n",
      "__________________________________________________________________________________________________\n",
      "concatenate_12 (Concatenate)    (None, 16, 16, 240)  0           max_pooling2d_1[0][0]            \n",
      "                                                                 conv2d_9[0][0]                   \n",
      "                                                                 conv2d_10[0][0]                  \n",
      "                                                                 conv2d_11[0][0]                  \n",
      "                                                                 conv2d_12[0][0]                  \n",
      "                                                                 conv2d_13[0][0]                  \n",
      "                                                                 conv2d_14[0][0]                  \n",
      "                                                                 conv2d_15[0][0]                  \n",
      "__________________________________________________________________________________________________\n",
      "conv2d_16 (Conv2D)              (None, 16, 16, 32)   69152       concatenate_12[0][0]             \n",
      "__________________________________________________________________________________________________\n",
      "concatenate_13 (Concatenate)    (None, 16, 16, 272)  0           max_pooling2d_1[0][0]            \n",
      "                                                                 conv2d_9[0][0]                   \n",
      "                                                                 conv2d_10[0][0]                  \n",
      "                                                                 conv2d_11[0][0]                  \n",
      "                                                                 conv2d_12[0][0]                  \n",
      "                                                                 conv2d_13[0][0]                  \n",
      "                                                                 conv2d_14[0][0]                  \n",
      "                                                                 conv2d_15[0][0]                  \n",
      "                                                                 conv2d_16[0][0]                  \n",
      "__________________________________________________________________________________________________\n",
      "conv2d_17 (Conv2D)              (None, 16, 16, 32)   78368       concatenate_13[0][0]             \n",
      "__________________________________________________________________________________________________\n",
      "concatenate_14 (Concatenate)    (None, 16, 16, 304)  0           max_pooling2d_1[0][0]            \n",
      "                                                                 conv2d_9[0][0]                   \n",
      "                                                                 conv2d_10[0][0]                  \n",
      "                                                                 conv2d_11[0][0]                  \n",
      "                                                                 conv2d_12[0][0]                  \n",
      "                                                                 conv2d_13[0][0]                  \n",
      "                                                                 conv2d_14[0][0]                  \n",
      "                                                                 conv2d_15[0][0]                  \n",
      "                                                                 conv2d_16[0][0]                  \n",
      "                                                                 conv2d_17[0][0]                  \n",
      "__________________________________________________________________________________________________\n",
      "conv2d_18 (Conv2D)              (None, 16, 16, 32)   87584       concatenate_14[0][0]             \n",
      "__________________________________________________________________________________________________\n",
      "concatenate_15 (Concatenate)    (None, 16, 16, 336)  0           max_pooling2d_1[0][0]            \n",
      "                                                                 conv2d_9[0][0]                   \n",
      "                                                                 conv2d_10[0][0]                  \n",
      "                                                                 conv2d_11[0][0]                  \n",
      "                                                                 conv2d_12[0][0]                  \n",
      "                                                                 conv2d_13[0][0]                  \n",
      "                                                                 conv2d_14[0][0]                  \n",
      "                                                                 conv2d_15[0][0]                  \n",
      "                                                                 conv2d_16[0][0]                  \n",
      "                                                                 conv2d_17[0][0]                  \n",
      "                                                                 conv2d_18[0][0]                  \n",
      "__________________________________________________________________________________________________\n",
      "conv2d_19 (Conv2D)              (None, 16, 16, 32)   96800       concatenate_15[0][0]             \n",
      "__________________________________________________________________________________________________\n",
      "concatenate_16 (Concatenate)    (None, 16, 16, 368)  0           max_pooling2d_1[0][0]            \n",
      "                                                                 conv2d_9[0][0]                   \n",
      "                                                                 conv2d_10[0][0]                  \n",
      "                                                                 conv2d_11[0][0]                  \n",
      "                                                                 conv2d_12[0][0]                  \n",
      "                                                                 conv2d_13[0][0]                  \n",
      "                                                                 conv2d_14[0][0]                  \n",
      "                                                                 conv2d_15[0][0]                  \n",
      "                                                                 conv2d_16[0][0]                  \n",
      "                                                                 conv2d_17[0][0]                  \n",
      "                                                                 conv2d_18[0][0]                  \n",
      "                                                                 conv2d_19[0][0]                  \n",
      "__________________________________________________________________________________________________\n",
      "conv2d_20 (Conv2D)              (None, 16, 16, 32)   106016      concatenate_16[0][0]             \n",
      "__________________________________________________________________________________________________\n",
      "conv2d_21 (Conv2D)              (None, 16, 16, 16)   528         conv2d_20[0][0]                  \n",
      "__________________________________________________________________________________________________\n",
      "max_pooling2d_2 (MaxPooling2D)  (None, 8, 8, 16)     0           conv2d_21[0][0]                  \n",
      "__________________________________________________________________________________________________\n",
      "flatten_1 (Flatten)             (None, 1024)         0           max_pooling2d_2[0][0]            \n",
      "__________________________________________________________________________________________________\n",
      "dense_1 (Dense)                 (None, 200)          205000      flatten_1[0][0]                  \n",
      "__________________________________________________________________________________________________\n",
      "dropout_1 (Dropout)             (None, 200)          0           dense_1[0][0]                    \n",
      "__________________________________________________________________________________________________\n",
      "dense_2 (Dense)                 (None, 1)            201         dropout_1[0][0]                  \n",
      "==================================================================================================\n",
      "Total params: 1,064,817\n",
      "Trainable params: 1,064,817\n",
      "Non-trainable params: 0\n",
      "__________________________________________________________________________________________________\n"
     ]
    }
   ],
   "source": [
    "def dense_block(x,c,k):\n",
    "    l = [x]\n",
    "    for i in range(k):\n",
    "        if i > 0:\n",
    "            x = Concatenate()(l)\n",
    "        x = Conv2D(c,3,padding='same',activation='relu',kernel_initializer='he_normal')(x)\n",
    "        l.append(x)\n",
    "    return x\n",
    "\n",
    "x_in = Input((32,32,3))\n",
    "\n",
    "x = Conv2D(32,3,padding='same',activation='relu',kernel_initializer='he_normal')(x_in)\n",
    "\n",
    "x = dense_block(x,32,6)\n",
    "x = Conv2D(16,1,activation='relu',kernel_initializer='he_normal')(x)\n",
    "x = MaxPooling2D(2,2)(x)\n",
    "\n",
    "x = dense_block(x,32,12)\n",
    "x = Conv2D(16,1,activation='relu',kernel_initializer='he_normal')(x)\n",
    "x = MaxPooling2D(2,2)(x)\n",
    "\n",
    "x = Flatten()(x)\n",
    "x = Dense(200,kernel_initializer='he_normal')(x)\n",
    "x = Dropout(0.5)(x)\n",
    "x = Dense(1,activation='sigmoid',kernel_initializer='he_normal')(x)\n",
    "model = Model(inputs=x_in,outputs=x)\n",
    "model.summary()"
   ]
  },
  {
   "cell_type": "markdown",
   "metadata": {},
   "source": [
    "Set up the model to optimize the categorical crossentropy loss using stochastic gradient descent."
   ]
  },
  {
   "cell_type": "code",
   "execution_count": 4,
   "metadata": {},
   "outputs": [],
   "source": [
    "model.compile(loss='binary_crossentropy',\n",
    "              optimizer='adam',\n",
    "              metrics=['accuracy'])"
   ]
  },
  {
   "cell_type": "markdown",
   "metadata": {},
   "source": [
    "Optimize the model over the training data."
   ]
  },
  {
   "cell_type": "code",
   "execution_count": 5,
   "metadata": {},
   "outputs": [
    {
     "name": "stdout",
     "output_type": "stream",
     "text": [
      "Train on 9000 samples, validate on 1000 samples\n",
      "Epoch 1/50\n",
      "9000/9000 [==============================] - 15s 2ms/step - loss: 0.4342 - acc: 0.7978 - val_loss: 0.2887 - val_acc: 0.8740\n",
      "Epoch 2/50\n",
      "9000/9000 [==============================] - 11s 1ms/step - loss: 0.2638 - acc: 0.8890 - val_loss: 0.2345 - val_acc: 0.9000\n",
      "Epoch 3/50\n",
      "9000/9000 [==============================] - 11s 1ms/step - loss: 0.1922 - acc: 0.9238 - val_loss: 0.1594 - val_acc: 0.9310\n",
      "Epoch 4/50\n",
      "9000/9000 [==============================] - 11s 1ms/step - loss: 0.1459 - acc: 0.9410 - val_loss: 0.1451 - val_acc: 0.9390\n",
      "Epoch 5/50\n",
      "9000/9000 [==============================] - 11s 1ms/step - loss: 0.1218 - acc: 0.9538 - val_loss: 0.1282 - val_acc: 0.9470\n",
      "Epoch 6/50\n",
      "9000/9000 [==============================] - 11s 1ms/step - loss: 0.0965 - acc: 0.9618 - val_loss: 0.1272 - val_acc: 0.9510\n",
      "Epoch 7/50\n",
      "9000/9000 [==============================] - 11s 1ms/step - loss: 0.0861 - acc: 0.9672 - val_loss: 0.0853 - val_acc: 0.9680\n",
      "Epoch 8/50\n",
      "9000/9000 [==============================] - 11s 1ms/step - loss: 0.0567 - acc: 0.9791 - val_loss: 0.0963 - val_acc: 0.9670\n",
      "Epoch 9/50\n",
      "9000/9000 [==============================] - 11s 1ms/step - loss: 0.0477 - acc: 0.9840 - val_loss: 0.1082 - val_acc: 0.9600\n",
      "Epoch 10/50\n",
      "9000/9000 [==============================] - 11s 1ms/step - loss: 0.0370 - acc: 0.9857 - val_loss: 0.0847 - val_acc: 0.9690\n",
      "Epoch 11/50\n",
      "9000/9000 [==============================] - 11s 1ms/step - loss: 0.0331 - acc: 0.9883 - val_loss: 0.0734 - val_acc: 0.9750\n",
      "Epoch 12/50\n",
      "9000/9000 [==============================] - 11s 1ms/step - loss: 0.0292 - acc: 0.9894 - val_loss: 0.0979 - val_acc: 0.9690\n",
      "Epoch 13/50\n",
      "9000/9000 [==============================] - 11s 1ms/step - loss: 0.0164 - acc: 0.9941 - val_loss: 0.1127 - val_acc: 0.9700\n",
      "Epoch 14/50\n",
      "9000/9000 [==============================] - 11s 1ms/step - loss: 0.0219 - acc: 0.9931 - val_loss: 0.1120 - val_acc: 0.9610\n",
      "Epoch 15/50\n",
      "9000/9000 [==============================] - 11s 1ms/step - loss: 0.0164 - acc: 0.9940 - val_loss: 0.0948 - val_acc: 0.9710\n",
      "Epoch 16/50\n",
      "9000/9000 [==============================] - 11s 1ms/step - loss: 0.0279 - acc: 0.9912 - val_loss: 0.1263 - val_acc: 0.9590\n",
      "Epoch 17/50\n",
      "9000/9000 [==============================] - 11s 1ms/step - loss: 0.0205 - acc: 0.9924 - val_loss: 0.1165 - val_acc: 0.9690\n",
      "Epoch 18/50\n",
      "9000/9000 [==============================] - 11s 1ms/step - loss: 0.0111 - acc: 0.9958 - val_loss: 0.0827 - val_acc: 0.9720\n",
      "Epoch 19/50\n",
      "9000/9000 [==============================] - 11s 1ms/step - loss: 0.0159 - acc: 0.9937 - val_loss: 0.1025 - val_acc: 0.9730\n",
      "Epoch 20/50\n",
      "9000/9000 [==============================] - 11s 1ms/step - loss: 0.0134 - acc: 0.9958 - val_loss: 0.1358 - val_acc: 0.9720\n",
      "Epoch 21/50\n",
      "9000/9000 [==============================] - 11s 1ms/step - loss: 0.0152 - acc: 0.9952 - val_loss: 0.1040 - val_acc: 0.9710\n",
      "Epoch 22/50\n",
      "9000/9000 [==============================] - 11s 1ms/step - loss: 0.0076 - acc: 0.9976 - val_loss: 0.0934 - val_acc: 0.9760\n",
      "Epoch 23/50\n",
      "9000/9000 [==============================] - 11s 1ms/step - loss: 0.0199 - acc: 0.9936 - val_loss: 0.0802 - val_acc: 0.9770\n",
      "Epoch 24/50\n",
      "9000/9000 [==============================] - 11s 1ms/step - loss: 0.0030 - acc: 0.9990 - val_loss: 0.0885 - val_acc: 0.9770\n",
      "Epoch 25/50\n",
      "9000/9000 [==============================] - 11s 1ms/step - loss: 6.5945e-04 - acc: 0.9998 - val_loss: 0.1057 - val_acc: 0.9740\n",
      "Epoch 26/50\n",
      "9000/9000 [==============================] - 11s 1ms/step - loss: 2.9562e-04 - acc: 1.0000 - val_loss: 0.1006 - val_acc: 0.9790\n",
      "Epoch 27/50\n",
      "9000/9000 [==============================] - 11s 1ms/step - loss: 8.6064e-05 - acc: 1.0000 - val_loss: 0.1167 - val_acc: 0.9770\n",
      "Epoch 28/50\n",
      "9000/9000 [==============================] - 11s 1ms/step - loss: 4.1393e-05 - acc: 1.0000 - val_loss: 0.1074 - val_acc: 0.9790\n",
      "Epoch 29/50\n",
      "9000/9000 [==============================] - 11s 1ms/step - loss: 2.9516e-05 - acc: 1.0000 - val_loss: 0.1072 - val_acc: 0.9770\n",
      "Epoch 30/50\n",
      "9000/9000 [==============================] - 11s 1ms/step - loss: 1.9120e-05 - acc: 1.0000 - val_loss: 0.1088 - val_acc: 0.9780\n",
      "Epoch 31/50\n",
      "9000/9000 [==============================] - 11s 1ms/step - loss: 2.5738e-05 - acc: 1.0000 - val_loss: 0.1102 - val_acc: 0.9780\n",
      "Epoch 32/50\n",
      "9000/9000 [==============================] - 11s 1ms/step - loss: 1.7419e-05 - acc: 1.0000 - val_loss: 0.1090 - val_acc: 0.9770\n",
      "Epoch 33/50\n",
      "9000/9000 [==============================] - 11s 1ms/step - loss: 1.2653e-05 - acc: 1.0000 - val_loss: 0.1101 - val_acc: 0.9760\n",
      "Epoch 34/50\n",
      "9000/9000 [==============================] - 11s 1ms/step - loss: 1.1004e-05 - acc: 1.0000 - val_loss: 0.1116 - val_acc: 0.9770\n",
      "Epoch 35/50\n",
      "9000/9000 [==============================] - 11s 1ms/step - loss: 1.0500e-05 - acc: 1.0000 - val_loss: 0.1123 - val_acc: 0.9750\n",
      "Epoch 36/50\n",
      "9000/9000 [==============================] - 11s 1ms/step - loss: 8.3776e-06 - acc: 1.0000 - val_loss: 0.1139 - val_acc: 0.9760\n",
      "Epoch 37/50\n",
      "9000/9000 [==============================] - 11s 1ms/step - loss: 6.6566e-06 - acc: 1.0000 - val_loss: 0.1154 - val_acc: 0.9770\n",
      "Epoch 38/50\n",
      "9000/9000 [==============================] - 11s 1ms/step - loss: 7.6322e-06 - acc: 1.0000 - val_loss: 0.1155 - val_acc: 0.9760\n",
      "Epoch 39/50\n",
      "9000/9000 [==============================] - 11s 1ms/step - loss: 6.9370e-06 - acc: 1.0000 - val_loss: 0.1159 - val_acc: 0.9740\n",
      "Epoch 40/50\n",
      "9000/9000 [==============================] - 11s 1ms/step - loss: 6.2461e-06 - acc: 1.0000 - val_loss: 0.1170 - val_acc: 0.9740\n",
      "Epoch 41/50\n",
      "9000/9000 [==============================] - 11s 1ms/step - loss: 5.7684e-06 - acc: 1.0000 - val_loss: 0.1175 - val_acc: 0.9740\n",
      "Epoch 42/50\n",
      "9000/9000 [==============================] - 11s 1ms/step - loss: 4.9993e-06 - acc: 1.0000 - val_loss: 0.1181 - val_acc: 0.9740\n",
      "Epoch 43/50\n",
      "9000/9000 [==============================] - 11s 1ms/step - loss: 4.6786e-06 - acc: 1.0000 - val_loss: 0.1192 - val_acc: 0.9740\n",
      "Epoch 44/50\n",
      "9000/9000 [==============================] - 11s 1ms/step - loss: 5.3961e-06 - acc: 1.0000 - val_loss: 0.1200 - val_acc: 0.9740\n",
      "Epoch 45/50\n",
      "9000/9000 [==============================] - 11s 1ms/step - loss: 4.0134e-06 - acc: 1.0000 - val_loss: 0.1204 - val_acc: 0.9740\n",
      "Epoch 46/50\n",
      "9000/9000 [==============================] - 11s 1ms/step - loss: 3.5415e-06 - acc: 1.0000 - val_loss: 0.1209 - val_acc: 0.9740\n",
      "Epoch 47/50\n",
      "9000/9000 [==============================] - 11s 1ms/step - loss: 3.5551e-06 - acc: 1.0000 - val_loss: 0.1219 - val_acc: 0.9740\n",
      "Epoch 48/50\n",
      "9000/9000 [==============================] - 11s 1ms/step - loss: 3.4887e-06 - acc: 1.0000 - val_loss: 0.1225 - val_acc: 0.9740\n",
      "Epoch 49/50\n",
      "9000/9000 [==============================] - 11s 1ms/step - loss: 3.2986e-06 - acc: 1.0000 - val_loss: 0.1233 - val_acc: 0.9740\n",
      "Epoch 50/50\n",
      "9000/9000 [==============================] - 11s 1ms/step - loss: 3.5253e-06 - acc: 1.0000 - val_loss: 0.1239 - val_acc: 0.9740\n"
     ]
    }
   ],
   "source": [
    "history = model.fit(x_train, y_train,\n",
    "                    batch_size=100,\n",
    "                    epochs=50,\n",
    "                    verbose=1,\n",
    "                    validation_split=0.1)"
   ]
  },
  {
   "cell_type": "code",
   "execution_count": 6,
   "metadata": {},
   "outputs": [
    {
     "data": {
      "image/png": "[encoded data removed]",
      "text/plain": [
       "<matplotlib.figure.Figure at 0x7fcbc14adda0>"
      ]
     },
     "metadata": {},
     "output_type": "display_data"
    },
    {
     "data": {
      "image/png": "[encoded data removed]",
      "text/plain": [
       "<matplotlib.figure.Figure at 0x7fcbba0c03c8>"
      ]
     },
     "metadata": {},
     "output_type": "display_data"
    }
   ],
   "source": [
    "plot_history(history)"
   ]
  },
  {
   "cell_type": "code",
   "execution_count": 7,
   "metadata": {},
   "outputs": [
    {
     "name": "stdout",
     "output_type": "stream",
     "text": [
      "2000/2000 [==============================] - 1s 487us/step\n",
      "Test accuracy: 97.40%\n"
     ]
    }
   ],
   "source": [
    "evaluate_test_accuracy(model,x_test,y_test)"
   ]
  },
  {
   "cell_type": "code",
   "execution_count": null,
   "metadata": {},
   "outputs": [],
   "source": []
  }
 ],
 "metadata": {
  "kernelspec": {
   "display_name": "Python 3",
   "language": "python",
   "name": "python3"
  },
  "language_info": {
   "codemirror_mode": {
    "name": "ipython",
    "version": 3
   },
   "file_extension": ".py",
   "mimetype": "text/x-python",
   "name": "python",
   "nbconvert_exporter": "python",
   "pygments_lexer": "ipython3",
   "version": "3.5.5"
  }
 },
 "nbformat": 4,
 "nbformat_minor": 2
}
