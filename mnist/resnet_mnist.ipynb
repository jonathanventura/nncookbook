{
 "cells": [
  {
   "cell_type": "markdown",
   "metadata": {},
   "source": [
    "### Classification with MNIST Dataset and ResNet network\n",
    "This script sets up a ResNet-style network to classify digits from the MNIST dataset."
   ]
  },
  {
   "cell_type": "code",
   "execution_count": 1,
   "metadata": {},
   "outputs": [
    {
     "name": "stderr",
     "output_type": "stream",
     "text": [
      "Using TensorFlow backend.\n"
     ]
    }
   ],
   "source": [
    "import keras\n",
    "import keras.backend as K\n",
    "from keras.datasets import mnist\n",
    "from keras.models import Model\n",
    "from keras.layers import Input, Conv2D, Dense, Flatten, MaxPooling2D, Add, Activation, Dropout\n",
    "from keras.optimizers import SGD\n",
    "from matplotlib import pyplot as plt\n",
    "import numpy as np"
   ]
  },
  {
   "cell_type": "markdown",
   "metadata": {},
   "source": [
    "Use a Keras utility function to load the MNIST dataset.  We select only zeros and ones to do binary classification."
   ]
  },
  {
   "cell_type": "code",
   "execution_count": 2,
   "metadata": {},
   "outputs": [],
   "source": [
    "(x_train, y_train), (x_test, y_test) = mnist.load_data()\n",
    "y_train = keras.utils.to_categorical(y_train,10)\n",
    "y_test = keras.utils.to_categorical(y_test,10)"
   ]
  },
  {
   "cell_type": "markdown",
   "metadata": {},
   "source": [
    "Resize the images to vectors and convert their datatype and range."
   ]
  },
  {
   "cell_type": "code",
   "execution_count": 3,
   "metadata": {},
   "outputs": [],
   "source": [
    "x_train = np.expand_dims(x_train,axis=-1)\n",
    "x_test = np.expand_dims(x_test,axis=-1)\n",
    "x_train = x_train.astype('float32')\n",
    "x_test = x_test.astype('float32')\n",
    "x_train /= 255\n",
    "x_test /= 255\n",
    "x_train = x_train*2.-1.\n",
    "x_test = x_test*2.-1."
   ]
  },
  {
   "cell_type": "markdown",
   "metadata": {
    "collapsed": true
   },
   "source": [
    "Build a multi-class classifier model."
   ]
  },
  {
   "cell_type": "code",
   "execution_count": 4,
   "metadata": {},
   "outputs": [
    {
     "name": "stdout",
     "output_type": "stream",
     "text": [
      "____________________________________________________________________________________________________\n",
      "Layer (type)                     Output Shape          Param #     Connected to                     \n",
      "====================================================================================================\n",
      "input_1 (InputLayer)             (None, 28, 28, 1)     0                                            \n",
      "____________________________________________________________________________________________________\n",
      "conv2d_2 (Conv2D)                (None, 14, 14, 64)    640         input_1[0][0]                    \n",
      "____________________________________________________________________________________________________\n",
      "conv2d_3 (Conv2D)                (None, 14, 14, 64)    36928       conv2d_2[0][0]                   \n",
      "____________________________________________________________________________________________________\n",
      "conv2d_1 (Conv2D)                (None, 14, 14, 64)    128         input_1[0][0]                    \n",
      "____________________________________________________________________________________________________\n",
      "add_1 (Add)                      (None, 14, 14, 64)    0           conv2d_3[0][0]                   \n",
      "                                                                   conv2d_1[0][0]                   \n",
      "____________________________________________________________________________________________________\n",
      "activation_1 (Activation)        (None, 14, 14, 64)    0           add_1[0][0]                      \n",
      "____________________________________________________________________________________________________\n",
      "conv2d_5 (Conv2D)                (None, 14, 14, 64)    36928       activation_1[0][0]               \n",
      "____________________________________________________________________________________________________\n",
      "conv2d_6 (Conv2D)                (None, 14, 14, 64)    36928       conv2d_5[0][0]                   \n",
      "____________________________________________________________________________________________________\n",
      "conv2d_4 (Conv2D)                (None, 14, 14, 64)    4160        activation_1[0][0]               \n",
      "____________________________________________________________________________________________________\n",
      "add_2 (Add)                      (None, 14, 14, 64)    0           conv2d_6[0][0]                   \n",
      "                                                                   conv2d_4[0][0]                   \n",
      "____________________________________________________________________________________________________\n",
      "activation_2 (Activation)        (None, 14, 14, 64)    0           add_2[0][0]                      \n",
      "____________________________________________________________________________________________________\n",
      "conv2d_8 (Conv2D)                (None, 7, 7, 128)     73856       activation_2[0][0]               \n",
      "____________________________________________________________________________________________________\n",
      "conv2d_9 (Conv2D)                (None, 7, 7, 128)     147584      conv2d_8[0][0]                   \n",
      "____________________________________________________________________________________________________\n",
      "conv2d_7 (Conv2D)                (None, 7, 7, 128)     8320        activation_2[0][0]               \n",
      "____________________________________________________________________________________________________\n",
      "add_3 (Add)                      (None, 7, 7, 128)     0           conv2d_9[0][0]                   \n",
      "                                                                   conv2d_7[0][0]                   \n",
      "____________________________________________________________________________________________________\n",
      "activation_3 (Activation)        (None, 7, 7, 128)     0           add_3[0][0]                      \n",
      "____________________________________________________________________________________________________\n",
      "conv2d_11 (Conv2D)               (None, 7, 7, 128)     147584      activation_3[0][0]               \n",
      "____________________________________________________________________________________________________\n",
      "conv2d_12 (Conv2D)               (None, 7, 7, 128)     147584      conv2d_11[0][0]                  \n",
      "____________________________________________________________________________________________________\n",
      "conv2d_10 (Conv2D)               (None, 7, 7, 128)     16512       activation_3[0][0]               \n",
      "____________________________________________________________________________________________________\n",
      "add_4 (Add)                      (None, 7, 7, 128)     0           conv2d_12[0][0]                  \n",
      "                                                                   conv2d_10[0][0]                  \n",
      "____________________________________________________________________________________________________\n",
      "activation_4 (Activation)        (None, 7, 7, 128)     0           add_4[0][0]                      \n",
      "____________________________________________________________________________________________________\n",
      "conv2d_14 (Conv2D)               (None, 4, 4, 256)     295168      activation_4[0][0]               \n",
      "____________________________________________________________________________________________________\n",
      "conv2d_15 (Conv2D)               (None, 4, 4, 256)     590080      conv2d_14[0][0]                  \n",
      "____________________________________________________________________________________________________\n",
      "conv2d_13 (Conv2D)               (None, 4, 4, 256)     33024       activation_4[0][0]               \n",
      "____________________________________________________________________________________________________\n",
      "add_5 (Add)                      (None, 4, 4, 256)     0           conv2d_15[0][0]                  \n",
      "                                                                   conv2d_13[0][0]                  \n",
      "____________________________________________________________________________________________________\n",
      "activation_5 (Activation)        (None, 4, 4, 256)     0           add_5[0][0]                      \n",
      "____________________________________________________________________________________________________\n",
      "conv2d_17 (Conv2D)               (None, 4, 4, 256)     590080      activation_5[0][0]               \n",
      "____________________________________________________________________________________________________\n",
      "conv2d_18 (Conv2D)               (None, 4, 4, 256)     590080      conv2d_17[0][0]                  \n",
      "____________________________________________________________________________________________________\n",
      "conv2d_16 (Conv2D)               (None, 4, 4, 256)     65792       activation_5[0][0]               \n",
      "____________________________________________________________________________________________________\n",
      "add_6 (Add)                      (None, 4, 4, 256)     0           conv2d_18[0][0]                  \n",
      "                                                                   conv2d_16[0][0]                  \n",
      "____________________________________________________________________________________________________\n",
      "activation_6 (Activation)        (None, 4, 4, 256)     0           add_6[0][0]                      \n",
      "____________________________________________________________________________________________________\n",
      "flatten_1 (Flatten)              (None, 4096)          0           activation_6[0][0]               \n",
      "____________________________________________________________________________________________________\n",
      "dense_1 (Dense)                  (None, 200)           819400      flatten_1[0][0]                  \n",
      "____________________________________________________________________________________________________\n",
      "dropout_1 (Dropout)              (None, 200)           0           dense_1[0][0]                    \n",
      "____________________________________________________________________________________________________\n",
      "dense_2 (Dense)                  (None, 10)            2010        dropout_1[0][0]                  \n",
      "====================================================================================================\n",
      "Total params: 3,642,786\n",
      "Trainable params: 3,642,786\n",
      "Non-trainable params: 0\n",
      "____________________________________________________________________________________________________\n"
     ]
    }
   ],
   "source": [
    "def res_block(x,c,s=1):\n",
    "    if K.shape(x)[3] <> c or s <> 1:\n",
    "        x_save = Conv2D(c,1,strides=s,activation=None)(x)\n",
    "    else:\n",
    "        x_save = x\n",
    "    x = Conv2D(c,3,strides=s,padding='same',activation='relu',kernel_initializer='he_normal')(x)\n",
    "    x = Conv2D(c,3,padding='same',activation=None,kernel_initializer='he_normal')(x)\n",
    "    x = Add()([x,x_save])\n",
    "    x = Activation('relu')(x)\n",
    "    return x\n",
    "\n",
    "x_in = Input((28,28,1))\n",
    "\n",
    "x = res_block(x_in,64,2)\n",
    "x = res_block(x,64)\n",
    "\n",
    "x = res_block(x,128,2)\n",
    "x = res_block(x,128)\n",
    "\n",
    "x = res_block(x,256,2)\n",
    "x = res_block(x,256)\n",
    "\n",
    "x = Flatten()(x)\n",
    "x = Dense(200,kernel_initializer='he_normal')(x)\n",
    "x = Dropout(0.5)(x)\n",
    "x = Dense(10,activation='softmax',kernel_initializer='he_normal')(x)\n",
    "model = Model(inputs=x_in,outputs=x)\n",
    "model.summary()"
   ]
  },
  {
   "cell_type": "markdown",
   "metadata": {},
   "source": [
    "Set up the model to optimize the categorical crossentropy loss using stochastic gradient descent."
   ]
  },
  {
   "cell_type": "code",
   "execution_count": 5,
   "metadata": {},
   "outputs": [],
   "source": [
    "model.compile(loss='categorical_crossentropy',\n",
    "              optimizer='sgd',\n",
    "              metrics=['accuracy'])"
   ]
  },
  {
   "cell_type": "markdown",
   "metadata": {},
   "source": [
    "Optimize the model over the training data."
   ]
  },
  {
   "cell_type": "code",
   "execution_count": 6,
   "metadata": {},
   "outputs": [
    {
     "name": "stdout",
     "output_type": "stream",
     "text": [
      "Train on 60000 samples, validate on 10000 samples\n",
      "Epoch 1/20\n",
      "60000/60000 [==============================] - 44s - loss: 0.3635 - acc: 0.8831 - val_loss: 0.0851 - val_acc: 0.9725\n",
      "Epoch 2/20\n",
      "60000/60000 [==============================] - 42s - loss: 0.1030 - acc: 0.9686 - val_loss: 0.0563 - val_acc: 0.9805\n",
      "Epoch 3/20\n",
      "60000/60000 [==============================] - 42s - loss: 0.0728 - acc: 0.9771 - val_loss: 0.0444 - val_acc: 0.9848\n",
      "Epoch 4/20\n",
      "60000/60000 [==============================] - 42s - loss: 0.0545 - acc: 0.9833 - val_loss: 0.0408 - val_acc: 0.9858\n",
      "Epoch 5/20\n",
      "60000/60000 [==============================] - 42s - loss: 0.0436 - acc: 0.9864 - val_loss: 0.0367 - val_acc: 0.9872\n",
      "Epoch 6/20\n",
      "60000/60000 [==============================] - 42s - loss: 0.0358 - acc: 0.9888 - val_loss: 0.0359 - val_acc: 0.9881\n",
      "Epoch 7/20\n",
      "60000/60000 [==============================] - 42s - loss: 0.0291 - acc: 0.9908 - val_loss: 0.0344 - val_acc: 0.9881\n",
      "Epoch 8/20\n",
      "60000/60000 [==============================] - 42s - loss: 0.0251 - acc: 0.9926 - val_loss: 0.0291 - val_acc: 0.9894\n",
      "Epoch 9/20\n",
      "60000/60000 [==============================] - 42s - loss: 0.0210 - acc: 0.9931 - val_loss: 0.0281 - val_acc: 0.9906\n",
      "Epoch 10/20\n",
      "60000/60000 [==============================] - 42s - loss: 0.0179 - acc: 0.9943 - val_loss: 0.0304 - val_acc: 0.9893\n",
      "Epoch 11/20\n",
      "60000/60000 [==============================] - 42s - loss: 0.0147 - acc: 0.9952 - val_loss: 0.0282 - val_acc: 0.9912\n",
      "Epoch 12/20\n",
      "60000/60000 [==============================] - 42s - loss: 0.0137 - acc: 0.9953 - val_loss: 0.0259 - val_acc: 0.9914\n",
      "Epoch 13/20\n",
      "60000/60000 [==============================] - 42s - loss: 0.0121 - acc: 0.9960 - val_loss: 0.0294 - val_acc: 0.9906\n",
      "Epoch 14/20\n",
      "60000/60000 [==============================] - 42s - loss: 0.0100 - acc: 0.9968 - val_loss: 0.0317 - val_acc: 0.9895\n",
      "Epoch 15/20\n",
      "60000/60000 [==============================] - 42s - loss: 0.0088 - acc: 0.9976 - val_loss: 0.0337 - val_acc: 0.9900\n",
      "Epoch 16/20\n",
      "60000/60000 [==============================] - 42s - loss: 0.0074 - acc: 0.9976 - val_loss: 0.0275 - val_acc: 0.9918\n",
      "Epoch 17/20\n",
      "60000/60000 [==============================] - 42s - loss: 0.0063 - acc: 0.9980 - val_loss: 0.0304 - val_acc: 0.9917\n",
      "Epoch 18/20\n",
      "60000/60000 [==============================] - 42s - loss: 0.0062 - acc: 0.9981 - val_loss: 0.0282 - val_acc: 0.9916\n",
      "Epoch 19/20\n",
      "60000/60000 [==============================] - 42s - loss: 0.0057 - acc: 0.9983 - val_loss: 0.0297 - val_acc: 0.9912\n",
      "Epoch 20/20\n",
      "60000/60000 [==============================] - 42s - loss: 0.0047 - acc: 0.9986 - val_loss: 0.0291 - val_acc: 0.9914\n"
     ]
    }
   ],
   "source": [
    "history = model.fit(x_train, y_train,\n",
    "                    batch_size=100,\n",
    "                    epochs=20,\n",
    "                    verbose=1,\n",
    "                    validation_data=(x_test, y_test))"
   ]
  },
  {
   "cell_type": "code",
   "execution_count": 7,
   "metadata": {},
   "outputs": [
    {
     "data": {
      "image/png": "[encoded data removed]",
      "text/plain": [
       "<matplotlib.figure.Figure at 0x7f6fbe90d110>"
      ]
     },
     "metadata": {},
     "output_type": "display_data"
    }
   ],
   "source": [
    "plt.plot(history.history['loss'])\n",
    "plt.plot(history.history['val_loss'])\n",
    "plt.legend(['Training Loss','Testing Loss'])\n",
    "plt.xlabel('Epoch')\n",
    "plt.ylabel('Loss')\n",
    "plt.show()"
   ]
  },
  {
   "cell_type": "code",
   "execution_count": 8,
   "metadata": {},
   "outputs": [
    {
     "data": {
      "image/png": "[encoded data removed]",
      "text/plain": [
       "<matplotlib.figure.Figure at 0x7f6fc1acc710>"
      ]
     },
     "metadata": {},
     "output_type": "display_data"
    }
   ],
   "source": [
    "plt.plot(history.history['acc'])\n",
    "plt.plot(history.history['val_acc'])\n",
    "plt.legend(['Training Accuracy','Testing Accuracy'])\n",
    "plt.xlabel('Epoch')\n",
    "plt.ylabel('Accuracy')\n",
    "plt.show()"
   ]
  },
  {
   "cell_type": "code",
   "execution_count": null,
   "metadata": {},
   "outputs": [],
   "source": []
  }
 ],
 "metadata": {
  "kernelspec": {
   "display_name": "Python 2",
   "language": "python",
   "name": "python2"
  },
  "language_info": {
   "codemirror_mode": {
    "name": "ipython",
    "version": 2
   },
   "file_extension": ".py",
   "mimetype": "text/x-python",
   "name": "python",
   "nbconvert_exporter": "python",
   "pygments_lexer": "ipython2",
   "version": "2.7.12"
  }
 },
 "nbformat": 4,
 "nbformat_minor": 2
}
