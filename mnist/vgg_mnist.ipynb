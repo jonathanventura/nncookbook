{
 "cells": [
  {
   "cell_type": "markdown",
   "metadata": {},
   "source": [
    "### Classification with MNIST Dataset and VGG-style network\n",
    "This script sets up a VGG-style network to classify digits from the MNIST dataset."
   ]
  },
  {
   "cell_type": "code",
   "execution_count": 1,
   "metadata": {},
   "outputs": [
    {
     "name": "stderr",
     "output_type": "stream",
     "text": [
      "Using TensorFlow backend.\n"
     ]
    }
   ],
   "source": [
    "import keras\n",
    "from keras.datasets import mnist\n",
    "from keras.models import Sequential\n",
    "from keras.layers import Input, Conv2D, Dense, Flatten, MaxPooling2D\n",
    "from keras.optimizers import SGD\n",
    "from matplotlib import pyplot as plt\n",
    "import numpy as np"
   ]
  },
  {
   "cell_type": "markdown",
   "metadata": {},
   "source": [
    "Use a Keras utility function to load the MNIST dataset.  We select only zeros and ones to do binary classification."
   ]
  },
  {
   "cell_type": "code",
   "execution_count": 2,
   "metadata": {},
   "outputs": [],
   "source": [
    "(x_train, y_train), (x_test, y_test) = mnist.load_data()\n",
    "y_train = keras.utils.to_categorical(y_train,10)\n",
    "y_test = keras.utils.to_categorical(y_test,10)"
   ]
  },
  {
   "cell_type": "markdown",
   "metadata": {},
   "source": [
    "Resize the images to vectors and convert their datatype and range."
   ]
  },
  {
   "cell_type": "code",
   "execution_count": 3,
   "metadata": {},
   "outputs": [],
   "source": [
    "x_train = np.expand_dims(x_train,axis=-1)\n",
    "x_test = np.expand_dims(x_test,axis=-1)\n",
    "x_train = x_train.astype('float32')\n",
    "x_test = x_test.astype('float32')\n",
    "x_train /= 255\n",
    "x_test /= 255\n",
    "x_train = x_train*2.-1.\n",
    "x_test = x_test*2.-1."
   ]
  },
  {
   "cell_type": "markdown",
   "metadata": {
    "collapsed": true
   },
   "source": [
    "Build a multi-class classifier model."
   ]
  },
  {
   "cell_type": "code",
   "execution_count": 4,
   "metadata": {},
   "outputs": [
    {
     "name": "stdout",
     "output_type": "stream",
     "text": [
      "_________________________________________________________________\n",
      "Layer (type)                 Output Shape              Param #   \n",
      "=================================================================\n",
      "conv2d_1 (Conv2D)            (None, 28, 28, 64)        640       \n",
      "_________________________________________________________________\n",
      "conv2d_2 (Conv2D)            (None, 28, 28, 64)        36928     \n",
      "_________________________________________________________________\n",
      "conv2d_3 (Conv2D)            (None, 28, 28, 64)        36928     \n",
      "_________________________________________________________________\n",
      "max_pooling2d_1 (MaxPooling2 (None, 14, 14, 64)        0         \n",
      "_________________________________________________________________\n",
      "conv2d_4 (Conv2D)            (None, 14, 14, 128)       73856     \n",
      "_________________________________________________________________\n",
      "conv2d_5 (Conv2D)            (None, 14, 14, 128)       147584    \n",
      "_________________________________________________________________\n",
      "max_pooling2d_2 (MaxPooling2 (None, 7, 7, 128)         0         \n",
      "_________________________________________________________________\n",
      "conv2d_6 (Conv2D)            (None, 7, 7, 256)         295168    \n",
      "_________________________________________________________________\n",
      "flatten_1 (Flatten)          (None, 12544)             0         \n",
      "_________________________________________________________________\n",
      "dense_1 (Dense)              (None, 200)               2509000   \n",
      "_________________________________________________________________\n",
      "dense_2 (Dense)              (None, 10)                2010      \n",
      "=================================================================\n",
      "Total params: 3,102,114\n",
      "Trainable params: 3,102,114\n",
      "Non-trainable params: 0\n",
      "_________________________________________________________________\n"
     ]
    }
   ],
   "source": [
    "model = Sequential()\n",
    "model.add(Conv2D(64,3,padding='same',activation='relu',input_shape=(28,28,1)))\n",
    "model.add(Conv2D(64,3,padding='same',activation='relu'))\n",
    "model.add(Conv2D(64,3,padding='same',activation='relu'))\n",
    "model.add(MaxPooling2D(2,2))\n",
    "model.add(Conv2D(128,3,padding='same',activation='relu'))\n",
    "model.add(Conv2D(128,3,padding='same',activation='relu'))\n",
    "model.add(MaxPooling2D(2,2))\n",
    "model.add(Conv2D(256,3,padding='same',activation='relu'))\n",
    "model.add(Flatten())\n",
    "model.add(Dense(200,activation='relu'))\n",
    "model.add(Dense(10,activation='softmax'))\n",
    "model.summary()"
   ]
  },
  {
   "cell_type": "markdown",
   "metadata": {},
   "source": [
    "Set up the model to optimize the binary crossentropy loss using stochastic gradient descent."
   ]
  },
  {
   "cell_type": "code",
   "execution_count": 5,
   "metadata": {},
   "outputs": [],
   "source": [
    "model.compile(loss='categorical_crossentropy',\n",
    "              optimizer='sgd',\n",
    "              metrics=['accuracy'])"
   ]
  },
  {
   "cell_type": "markdown",
   "metadata": {},
   "source": [
    "Optimize the model over the training data."
   ]
  },
  {
   "cell_type": "code",
   "execution_count": 6,
   "metadata": {},
   "outputs": [
    {
     "name": "stdout",
     "output_type": "stream",
     "text": [
      "Train on 60000 samples, validate on 10000 samples\n",
      "Epoch 1/20\n",
      "60000/60000 [==============================] - 41s - loss: 1.2636 - acc: 0.6649 - val_loss: 0.1931 - val_acc: 0.9427\n",
      "Epoch 2/20\n",
      "60000/60000 [==============================] - 40s - loss: 0.1435 - acc: 0.9563 - val_loss: 0.0907 - val_acc: 0.9725\n",
      "Epoch 3/20\n",
      "60000/60000 [==============================] - 39s - loss: 0.0845 - acc: 0.9738 - val_loss: 0.0701 - val_acc: 0.9777\n",
      "Epoch 4/20\n",
      "60000/60000 [==============================] - 39s - loss: 0.0628 - acc: 0.9805 - val_loss: 0.0544 - val_acc: 0.9811\n",
      "Epoch 5/20\n",
      "60000/60000 [==============================] - 40s - loss: 0.0513 - acc: 0.9845 - val_loss: 0.0433 - val_acc: 0.9845\n",
      "Epoch 6/20\n",
      "60000/60000 [==============================] - 40s - loss: 0.0433 - acc: 0.9865 - val_loss: 0.0452 - val_acc: 0.9854\n",
      "Epoch 7/20\n",
      "60000/60000 [==============================] - 39s - loss: 0.0368 - acc: 0.9889 - val_loss: 0.0436 - val_acc: 0.9855\n",
      "Epoch 8/20\n",
      "60000/60000 [==============================] - 39s - loss: 0.0326 - acc: 0.9900 - val_loss: 0.0325 - val_acc: 0.9887\n",
      "Epoch 9/20\n",
      "60000/60000 [==============================] - 40s - loss: 0.0284 - acc: 0.9912 - val_loss: 0.0383 - val_acc: 0.9877\n",
      "Epoch 10/20\n",
      "60000/60000 [==============================] - 40s - loss: 0.0245 - acc: 0.9925 - val_loss: 0.0368 - val_acc: 0.9875\n",
      "Epoch 11/20\n",
      "60000/60000 [==============================] - 40s - loss: 0.0212 - acc: 0.9937 - val_loss: 0.0335 - val_acc: 0.9896\n",
      "Epoch 12/20\n",
      "60000/60000 [==============================] - 39s - loss: 0.0189 - acc: 0.9942 - val_loss: 0.0306 - val_acc: 0.9900\n",
      "Epoch 13/20\n",
      "60000/60000 [==============================] - 39s - loss: 0.0162 - acc: 0.9954 - val_loss: 0.0344 - val_acc: 0.9890\n",
      "Epoch 14/20\n",
      "60000/60000 [==============================] - 40s - loss: 0.0147 - acc: 0.9953 - val_loss: 0.0328 - val_acc: 0.9893\n",
      "Epoch 15/20\n",
      "60000/60000 [==============================] - 39s - loss: 0.0129 - acc: 0.9960 - val_loss: 0.0335 - val_acc: 0.9898\n",
      "Epoch 16/20\n",
      "60000/60000 [==============================] - 40s - loss: 0.0113 - acc: 0.9966 - val_loss: 0.0365 - val_acc: 0.9885\n",
      "Epoch 17/20\n",
      "60000/60000 [==============================] - 39s - loss: 0.0097 - acc: 0.9971 - val_loss: 0.0318 - val_acc: 0.9907\n",
      "Epoch 18/20\n",
      "60000/60000 [==============================] - 39s - loss: 0.0084 - acc: 0.9978 - val_loss: 0.0333 - val_acc: 0.9900\n",
      "Epoch 19/20\n",
      "60000/60000 [==============================] - 40s - loss: 0.0077 - acc: 0.9978 - val_loss: 0.0347 - val_acc: 0.9906\n",
      "Epoch 20/20\n",
      "60000/60000 [==============================] - 40s - loss: 0.0069 - acc: 0.9979 - val_loss: 0.0319 - val_acc: 0.9905\n"
     ]
    }
   ],
   "source": [
    "history = model.fit(x_train, y_train,\n",
    "                    batch_size=100,\n",
    "                    epochs=20,\n",
    "                    verbose=1,\n",
    "                    validation_data=(x_test, y_test))"
   ]
  },
  {
   "cell_type": "code",
   "execution_count": 7,
   "metadata": {},
   "outputs": [
    {
     "data": {
      "image/png": "[encoded data removed]",
      "text/plain": [
       "<matplotlib.figure.Figure at 0x7f4aa96c1790>"
      ]
     },
     "metadata": {},
     "output_type": "display_data"
    }
   ],
   "source": [
    "plt.plot(history.history['loss'])\n",
    "plt.plot(history.history['val_loss'])\n",
    "plt.legend(['Training Loss','Testing Loss'])\n",
    "plt.xlabel('Epoch')\n",
    "plt.ylabel('Loss')\n",
    "plt.show()"
   ]
  },
  {
   "cell_type": "code",
   "execution_count": 8,
   "metadata": {},
   "outputs": [
    {
     "data": {
      "image/png": "[encoded data removed]",
      "text/plain": [
       "<matplotlib.figure.Figure at 0x7f4aa6e07190>"
      ]
     },
     "metadata": {},
     "output_type": "display_data"
    }
   ],
   "source": [
    "plt.plot(history.history['acc'])\n",
    "plt.plot(history.history['val_acc'])\n",
    "plt.legend(['Training Accuracy','Testing Accuracy'])\n",
    "plt.xlabel('Epoch')\n",
    "plt.ylabel('Accuracy')\n",
    "plt.show()"
   ]
  },
  {
   "cell_type": "code",
   "execution_count": null,
   "metadata": {},
   "outputs": [],
   "source": []
  }
 ],
 "metadata": {
  "kernelspec": {
   "display_name": "Python 2",
   "language": "python",
   "name": "python2"
  },
  "language_info": {
   "codemirror_mode": {
    "name": "ipython",
    "version": 2
   },
   "file_extension": ".py",
   "mimetype": "text/x-python",
   "name": "python",
   "nbconvert_exporter": "python",
   "pygments_lexer": "ipython2",
   "version": "2.7.12"
  }
 },
 "nbformat": 4,
 "nbformat_minor": 2
}
